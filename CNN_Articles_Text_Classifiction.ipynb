{
  "cells": [
    {
      "cell_type": "markdown",
      "metadata": {
        "id": "view-in-github",
        "colab_type": "text"
      },
      "source": [
        "<a href=\"https://colab.research.google.com/github/zohour-diaa-eldin/CNN_Article_Classification/blob/main/CNN_Articles_Text_Classifiction.ipynb\" target=\"_parent\"><img src=\"https://colab.research.google.com/assets/colab-badge.svg\" alt=\"Open In Colab\"/></a>"
      ]
    },
    {
      "cell_type": "markdown",
      "metadata": {
        "id": "OcL-a7wNeg0p"
      },
      "source": [
        "# CNN Articels text classification"
      ]
    },
    {
      "cell_type": "markdown",
      "source": [
        "## Git Data From Kaggle"
      ],
      "metadata": {
        "id": "35rr1egEptzL"
      }
    },
    {
      "cell_type": "code",
      "execution_count": null,
      "metadata": {
        "colab": {
          "base_uri": "https://localhost:8080/"
        },
        "id": "aKyepFmDeg0i",
        "outputId": "bda6829f-651e-4932-eb9d-3b8fd6390932"
      },
      "outputs": [
        {
          "output_type": "stream",
          "name": "stdout",
          "text": [
            "cp: cannot stat 'kaggle.json': No such file or directory\n",
            "chmod: cannot access '/root/.kaggle/kaggle.json': No such file or directory\n",
            "Dataset URL: https://www.kaggle.com/datasets/hadasu92/cnn-articles-after-basic-cleaning\n",
            "License(s): CC0-1.0\n",
            "Downloading cnn-articles-after-basic-cleaning.zip to /content\n",
            " 69% 60.0M/87.4M [00:00<00:00, 107MB/s]\n",
            "100% 87.4M/87.4M [00:00<00:00, 119MB/s]\n"
          ]
        }
      ],
      "source": [
        "!mkdir ~/.kaggle\n",
        "!cp kaggle.json ~/.kaggle/\n",
        "!chmod 600 ~/.kaggle/kaggle.json\n",
        "!kaggle datasets download -d hadasu92/cnn-articles-after-basic-cleaning"
      ]
    },
    {
      "cell_type": "code",
      "execution_count": null,
      "metadata": {
        "colab": {
          "base_uri": "https://localhost:8080/"
        },
        "id": "GHPHKM9ofsON",
        "outputId": "ced88fdd-ce3d-47f3-a858-a13377628da8"
      },
      "outputs": [
        {
          "output_type": "stream",
          "name": "stdout",
          "text": [
            "Archive:  cnn-articles-after-basic-cleaning.zip\n",
            "  inflating: CNN_Articels_clean/CNN_Articels_clean.csv  \n",
            "  inflating: CNN_Articels_clean_2/CNN_Articels_clean.csv  \n"
          ]
        }
      ],
      "source": [
        "!unzip cnn-articles-after-basic-cleaning.zip"
      ]
    },
    {
      "cell_type": "markdown",
      "source": [
        "## Import Important Libraries"
      ],
      "metadata": {
        "id": "kLvttksobL0W"
      }
    },
    {
      "cell_type": "code",
      "source": [
        "!pip install num2words"
      ],
      "metadata": {
        "colab": {
          "base_uri": "https://localhost:8080/"
        },
        "id": "107Ga6gGbEcf",
        "outputId": "6f77dc2d-9565-40f5-f22e-6a2657a6fe60"
      },
      "execution_count": null,
      "outputs": [
        {
          "output_type": "stream",
          "name": "stdout",
          "text": [
            "Requirement already satisfied: num2words in /usr/local/lib/python3.10/dist-packages (0.5.13)\n",
            "Requirement already satisfied: docopt>=0.6.2 in /usr/local/lib/python3.10/dist-packages (from num2words) (0.6.2)\n"
          ]
        }
      ]
    },
    {
      "cell_type": "code",
      "source": [
        "import pandas as pd\n",
        "import numpy as np\n",
        "import matplotlib.pyplot as plt\n",
        "import seaborn as sns\n",
        "import re\n",
        "import num2words\n",
        "import pickle\n",
        "import nltk\n",
        "from nltk.stem import WordNetLemmatizer\n",
        "from nltk.stem import PorterStemmer\n",
        "nltk.download('omw-1.4')\n",
        "nltk.download('punkt')\n",
        "nltk.download('stopwords')\n",
        "nltk.download('wordnet')\n",
        "from imblearn.over_sampling import SMOTE\n",
        "from sklearn.model_selection import train_test_split\n",
        "from sklearn.feature_extraction.text import TfidfVectorizer\n",
        "from sklearn import svm\n",
        "from sklearn.metrics import classification_report, confusion_matrix, accuracy_score\n",
        "import warnings\n",
        "warnings.filterwarnings('ignore')"
      ],
      "metadata": {
        "colab": {
          "base_uri": "https://localhost:8080/"
        },
        "id": "hWK4nvMfaI7N",
        "outputId": "8b16613a-3e94-4392-abb9-3b8eaff9d63f"
      },
      "execution_count": null,
      "outputs": [
        {
          "output_type": "stream",
          "name": "stderr",
          "text": [
            "[nltk_data] Downloading package omw-1.4 to /root/nltk_data...\n",
            "[nltk_data]   Package omw-1.4 is already up-to-date!\n",
            "[nltk_data] Downloading package punkt to /root/nltk_data...\n",
            "[nltk_data]   Package punkt is already up-to-date!\n",
            "[nltk_data] Downloading package stopwords to /root/nltk_data...\n",
            "[nltk_data]   Package stopwords is already up-to-date!\n",
            "[nltk_data] Downloading package wordnet to /root/nltk_data...\n",
            "[nltk_data]   Package wordnet is already up-to-date!\n"
          ]
        }
      ]
    },
    {
      "cell_type": "markdown",
      "metadata": {
        "id": "QQQUILBCeg0r"
      },
      "source": [
        "## Load Data"
      ]
    },
    {
      "cell_type": "code",
      "execution_count": null,
      "metadata": {
        "id": "hveTTummeg0s"
      },
      "outputs": [],
      "source": [
        "import pandas as pd\n",
        "\n",
        "import warnings\n",
        "warnings.filterwarnings('ignore')\n",
        "\n",
        "\n",
        "dataset = pd.read_csv('CNN_Articels_clean_2/CNN_Articels_clean.csv')"
      ]
    },
    {
      "cell_type": "markdown",
      "metadata": {
        "id": "I4iwc8K9eg0t"
      },
      "source": [
        "## Exploratory Data Analysis"
      ]
    },
    {
      "cell_type": "code",
      "execution_count": null,
      "metadata": {
        "colab": {
          "base_uri": "https://localhost:8080/"
        },
        "id": "QtR7ui_meg0u",
        "outputId": "9dea498d-624b-4a60-d13c-51b95b1eb5ae"
      },
      "outputs": [
        {
          "output_type": "stream",
          "name": "stdout",
          "text": [
            "Shape:  (37949, 11)\n"
          ]
        }
      ],
      "source": [
        "print('Shape: ', dataset.shape)"
      ]
    },
    {
      "cell_type": "code",
      "source": [
        "dataset.head()"
      ],
      "metadata": {
        "colab": {
          "base_uri": "https://localhost:8080/",
          "height": 692
        },
        "id": "TJIIm_q3VqvE",
        "outputId": "34afdb94-1f18-4869-f353-bea7dbdd1754"
      },
      "execution_count": null,
      "outputs": [
        {
          "output_type": "execute_result",
          "data": {
            "text/plain": [
              "   Index                                             Author  \\\n",
              "0      0                                 Jacopo Prisco, CNN   \n",
              "1      1                              Stephanie Bailey, CNN   \n",
              "2      2  Words by Stephanie Bailey, video by Zahra Jamshed   \n",
              "3      3                                     Kathryn Vasel    \n",
              "4      4                    Paul R. La Monica, CNN Business   \n",
              "\n",
              "        Date published  Category    Section  \\\n",
              "0  2021-07-15 02:46:59      news      world   \n",
              "1  2021-05-12 07:52:09      news      world   \n",
              "2  2021-06-16 02:51:30      news       asia   \n",
              "3  2022-03-18 14:37:21  business    success   \n",
              "4  2022-03-19 11:41:08  business  investing   \n",
              "\n",
              "                                                 Url  \\\n",
              "0  https://www.cnn.com/2021/07/14/world/tusimple-...   \n",
              "1  https://www.cnn.com/2021/05/12/world/ironhand-...   \n",
              "2  https://www.cnn.com/2021/06/15/asia/swarm-robo...   \n",
              "3  https://www.cnn.com/2022/03/18/success/pandemi...   \n",
              "4  https://www.cnn.com/2022/03/19/investing/march...   \n",
              "\n",
              "                                            Headline  \\\n",
              "0  There's a shortage of truckers, but TuSimple t...   \n",
              "1  Bioservo's robotic 'Ironhand' could protect fa...   \n",
              "2  This swarm of robots gets smarter the more it ...   \n",
              "3  Two years later, remote work has changed milli...   \n",
              "4          Why March is so volatile for stocks - CNN   \n",
              "\n",
              "                                         Description  \\\n",
              "0  The e-commerce boom has exacerbated a global t...   \n",
              "1  Working in a factory can mean doing the same t...   \n",
              "2  In a Hong Kong warehouse, a swarm of autonomou...   \n",
              "3  Here's a look at how the pandemic reshaped peo...   \n",
              "4  March Madness isn't just for college basketbal...   \n",
              "\n",
              "                                            Keywords  \\\n",
              "0  world, There's a shortage of truckers, but TuS...   \n",
              "1  world, Bioservo's robotic 'Ironhand' could pro...   \n",
              "2  asia, This swarm of robots gets smarter the mo...   \n",
              "3  success, Two years later, remote work has chan...   \n",
              "4  investing, Why March is so volatile for stocks...   \n",
              "\n",
              "                                     Second headline  \\\n",
              "0  There's a shortage of truckers, but TuSimple t...   \n",
              "1  A robotic 'Ironhand' could protect factory wor...   \n",
              "2  This swarm of robots gets smarter the more it ...   \n",
              "3  Two years later, remote work has changed milli...   \n",
              "4                Why March is so volatile for stocks   \n",
              "\n",
              "                                        Article text  \n",
              "0   (CNN)Right now, there's a shortage of truck d...  \n",
              "1   (CNN)Working in a factory or warehouse can me...  \n",
              "2   (CNN)In a Hong Kong warehouse, a swarm of aut...  \n",
              "3  The pandemic thrust the working world into a n...  \n",
              "4  New York (CNN Business)March Madness isn't jus...  "
            ],
            "text/html": [
              "\n",
              "  <div id=\"df-fa8d53ba-ac80-47d6-b081-b00a6e05b678\" class=\"colab-df-container\">\n",
              "    <div>\n",
              "<style scoped>\n",
              "    .dataframe tbody tr th:only-of-type {\n",
              "        vertical-align: middle;\n",
              "    }\n",
              "\n",
              "    .dataframe tbody tr th {\n",
              "        vertical-align: top;\n",
              "    }\n",
              "\n",
              "    .dataframe thead th {\n",
              "        text-align: right;\n",
              "    }\n",
              "</style>\n",
              "<table border=\"1\" class=\"dataframe\">\n",
              "  <thead>\n",
              "    <tr style=\"text-align: right;\">\n",
              "      <th></th>\n",
              "      <th>Index</th>\n",
              "      <th>Author</th>\n",
              "      <th>Date published</th>\n",
              "      <th>Category</th>\n",
              "      <th>Section</th>\n",
              "      <th>Url</th>\n",
              "      <th>Headline</th>\n",
              "      <th>Description</th>\n",
              "      <th>Keywords</th>\n",
              "      <th>Second headline</th>\n",
              "      <th>Article text</th>\n",
              "    </tr>\n",
              "  </thead>\n",
              "  <tbody>\n",
              "    <tr>\n",
              "      <th>0</th>\n",
              "      <td>0</td>\n",
              "      <td>Jacopo Prisco, CNN</td>\n",
              "      <td>2021-07-15 02:46:59</td>\n",
              "      <td>news</td>\n",
              "      <td>world</td>\n",
              "      <td>https://www.cnn.com/2021/07/14/world/tusimple-...</td>\n",
              "      <td>There's a shortage of truckers, but TuSimple t...</td>\n",
              "      <td>The e-commerce boom has exacerbated a global t...</td>\n",
              "      <td>world, There's a shortage of truckers, but TuS...</td>\n",
              "      <td>There's a shortage of truckers, but TuSimple t...</td>\n",
              "      <td>(CNN)Right now, there's a shortage of truck d...</td>\n",
              "    </tr>\n",
              "    <tr>\n",
              "      <th>1</th>\n",
              "      <td>1</td>\n",
              "      <td>Stephanie Bailey, CNN</td>\n",
              "      <td>2021-05-12 07:52:09</td>\n",
              "      <td>news</td>\n",
              "      <td>world</td>\n",
              "      <td>https://www.cnn.com/2021/05/12/world/ironhand-...</td>\n",
              "      <td>Bioservo's robotic 'Ironhand' could protect fa...</td>\n",
              "      <td>Working in a factory can mean doing the same t...</td>\n",
              "      <td>world, Bioservo's robotic 'Ironhand' could pro...</td>\n",
              "      <td>A robotic 'Ironhand' could protect factory wor...</td>\n",
              "      <td>(CNN)Working in a factory or warehouse can me...</td>\n",
              "    </tr>\n",
              "    <tr>\n",
              "      <th>2</th>\n",
              "      <td>2</td>\n",
              "      <td>Words by Stephanie Bailey, video by Zahra Jamshed</td>\n",
              "      <td>2021-06-16 02:51:30</td>\n",
              "      <td>news</td>\n",
              "      <td>asia</td>\n",
              "      <td>https://www.cnn.com/2021/06/15/asia/swarm-robo...</td>\n",
              "      <td>This swarm of robots gets smarter the more it ...</td>\n",
              "      <td>In a Hong Kong warehouse, a swarm of autonomou...</td>\n",
              "      <td>asia, This swarm of robots gets smarter the mo...</td>\n",
              "      <td>This swarm of robots gets smarter the more it ...</td>\n",
              "      <td>(CNN)In a Hong Kong warehouse, a swarm of aut...</td>\n",
              "    </tr>\n",
              "    <tr>\n",
              "      <th>3</th>\n",
              "      <td>3</td>\n",
              "      <td>Kathryn Vasel</td>\n",
              "      <td>2022-03-18 14:37:21</td>\n",
              "      <td>business</td>\n",
              "      <td>success</td>\n",
              "      <td>https://www.cnn.com/2022/03/18/success/pandemi...</td>\n",
              "      <td>Two years later, remote work has changed milli...</td>\n",
              "      <td>Here's a look at how the pandemic reshaped peo...</td>\n",
              "      <td>success, Two years later, remote work has chan...</td>\n",
              "      <td>Two years later, remote work has changed milli...</td>\n",
              "      <td>The pandemic thrust the working world into a n...</td>\n",
              "    </tr>\n",
              "    <tr>\n",
              "      <th>4</th>\n",
              "      <td>4</td>\n",
              "      <td>Paul R. La Monica, CNN Business</td>\n",
              "      <td>2022-03-19 11:41:08</td>\n",
              "      <td>business</td>\n",
              "      <td>investing</td>\n",
              "      <td>https://www.cnn.com/2022/03/19/investing/march...</td>\n",
              "      <td>Why March is so volatile for stocks - CNN</td>\n",
              "      <td>March Madness isn't just for college basketbal...</td>\n",
              "      <td>investing, Why March is so volatile for stocks...</td>\n",
              "      <td>Why March is so volatile for stocks</td>\n",
              "      <td>New York (CNN Business)March Madness isn't jus...</td>\n",
              "    </tr>\n",
              "  </tbody>\n",
              "</table>\n",
              "</div>\n",
              "    <div class=\"colab-df-buttons\">\n",
              "\n",
              "  <div class=\"colab-df-container\">\n",
              "    <button class=\"colab-df-convert\" onclick=\"convertToInteractive('df-fa8d53ba-ac80-47d6-b081-b00a6e05b678')\"\n",
              "            title=\"Convert this dataframe to an interactive table.\"\n",
              "            style=\"display:none;\">\n",
              "\n",
              "  <svg xmlns=\"http://www.w3.org/2000/svg\" height=\"24px\" viewBox=\"0 -960 960 960\">\n",
              "    <path d=\"M120-120v-720h720v720H120Zm60-500h600v-160H180v160Zm220 220h160v-160H400v160Zm0 220h160v-160H400v160ZM180-400h160v-160H180v160Zm440 0h160v-160H620v160ZM180-180h160v-160H180v160Zm440 0h160v-160H620v160Z\"/>\n",
              "  </svg>\n",
              "    </button>\n",
              "\n",
              "  <style>\n",
              "    .colab-df-container {\n",
              "      display:flex;\n",
              "      gap: 12px;\n",
              "    }\n",
              "\n",
              "    .colab-df-convert {\n",
              "      background-color: #E8F0FE;\n",
              "      border: none;\n",
              "      border-radius: 50%;\n",
              "      cursor: pointer;\n",
              "      display: none;\n",
              "      fill: #1967D2;\n",
              "      height: 32px;\n",
              "      padding: 0 0 0 0;\n",
              "      width: 32px;\n",
              "    }\n",
              "\n",
              "    .colab-df-convert:hover {\n",
              "      background-color: #E2EBFA;\n",
              "      box-shadow: 0px 1px 2px rgba(60, 64, 67, 0.3), 0px 1px 3px 1px rgba(60, 64, 67, 0.15);\n",
              "      fill: #174EA6;\n",
              "    }\n",
              "\n",
              "    .colab-df-buttons div {\n",
              "      margin-bottom: 4px;\n",
              "    }\n",
              "\n",
              "    [theme=dark] .colab-df-convert {\n",
              "      background-color: #3B4455;\n",
              "      fill: #D2E3FC;\n",
              "    }\n",
              "\n",
              "    [theme=dark] .colab-df-convert:hover {\n",
              "      background-color: #434B5C;\n",
              "      box-shadow: 0px 1px 3px 1px rgba(0, 0, 0, 0.15);\n",
              "      filter: drop-shadow(0px 1px 2px rgba(0, 0, 0, 0.3));\n",
              "      fill: #FFFFFF;\n",
              "    }\n",
              "  </style>\n",
              "\n",
              "    <script>\n",
              "      const buttonEl =\n",
              "        document.querySelector('#df-fa8d53ba-ac80-47d6-b081-b00a6e05b678 button.colab-df-convert');\n",
              "      buttonEl.style.display =\n",
              "        google.colab.kernel.accessAllowed ? 'block' : 'none';\n",
              "\n",
              "      async function convertToInteractive(key) {\n",
              "        const element = document.querySelector('#df-fa8d53ba-ac80-47d6-b081-b00a6e05b678');\n",
              "        const dataTable =\n",
              "          await google.colab.kernel.invokeFunction('convertToInteractive',\n",
              "                                                    [key], {});\n",
              "        if (!dataTable) return;\n",
              "\n",
              "        const docLinkHtml = 'Like what you see? Visit the ' +\n",
              "          '<a target=\"_blank\" href=https://colab.research.google.com/notebooks/data_table.ipynb>data table notebook</a>'\n",
              "          + ' to learn more about interactive tables.';\n",
              "        element.innerHTML = '';\n",
              "        dataTable['output_type'] = 'display_data';\n",
              "        await google.colab.output.renderOutput(dataTable, element);\n",
              "        const docLink = document.createElement('div');\n",
              "        docLink.innerHTML = docLinkHtml;\n",
              "        element.appendChild(docLink);\n",
              "      }\n",
              "    </script>\n",
              "  </div>\n",
              "\n",
              "\n",
              "<div id=\"df-09cef62b-adeb-4c94-b29a-407994222b51\">\n",
              "  <button class=\"colab-df-quickchart\" onclick=\"quickchart('df-09cef62b-adeb-4c94-b29a-407994222b51')\"\n",
              "            title=\"Suggest charts\"\n",
              "            style=\"display:none;\">\n",
              "\n",
              "<svg xmlns=\"http://www.w3.org/2000/svg\" height=\"24px\"viewBox=\"0 0 24 24\"\n",
              "     width=\"24px\">\n",
              "    <g>\n",
              "        <path d=\"M19 3H5c-1.1 0-2 .9-2 2v14c0 1.1.9 2 2 2h14c1.1 0 2-.9 2-2V5c0-1.1-.9-2-2-2zM9 17H7v-7h2v7zm4 0h-2V7h2v10zm4 0h-2v-4h2v4z\"/>\n",
              "    </g>\n",
              "</svg>\n",
              "  </button>\n",
              "\n",
              "<style>\n",
              "  .colab-df-quickchart {\n",
              "      --bg-color: #E8F0FE;\n",
              "      --fill-color: #1967D2;\n",
              "      --hover-bg-color: #E2EBFA;\n",
              "      --hover-fill-color: #174EA6;\n",
              "      --disabled-fill-color: #AAA;\n",
              "      --disabled-bg-color: #DDD;\n",
              "  }\n",
              "\n",
              "  [theme=dark] .colab-df-quickchart {\n",
              "      --bg-color: #3B4455;\n",
              "      --fill-color: #D2E3FC;\n",
              "      --hover-bg-color: #434B5C;\n",
              "      --hover-fill-color: #FFFFFF;\n",
              "      --disabled-bg-color: #3B4455;\n",
              "      --disabled-fill-color: #666;\n",
              "  }\n",
              "\n",
              "  .colab-df-quickchart {\n",
              "    background-color: var(--bg-color);\n",
              "    border: none;\n",
              "    border-radius: 50%;\n",
              "    cursor: pointer;\n",
              "    display: none;\n",
              "    fill: var(--fill-color);\n",
              "    height: 32px;\n",
              "    padding: 0;\n",
              "    width: 32px;\n",
              "  }\n",
              "\n",
              "  .colab-df-quickchart:hover {\n",
              "    background-color: var(--hover-bg-color);\n",
              "    box-shadow: 0 1px 2px rgba(60, 64, 67, 0.3), 0 1px 3px 1px rgba(60, 64, 67, 0.15);\n",
              "    fill: var(--button-hover-fill-color);\n",
              "  }\n",
              "\n",
              "  .colab-df-quickchart-complete:disabled,\n",
              "  .colab-df-quickchart-complete:disabled:hover {\n",
              "    background-color: var(--disabled-bg-color);\n",
              "    fill: var(--disabled-fill-color);\n",
              "    box-shadow: none;\n",
              "  }\n",
              "\n",
              "  .colab-df-spinner {\n",
              "    border: 2px solid var(--fill-color);\n",
              "    border-color: transparent;\n",
              "    border-bottom-color: var(--fill-color);\n",
              "    animation:\n",
              "      spin 1s steps(1) infinite;\n",
              "  }\n",
              "\n",
              "  @keyframes spin {\n",
              "    0% {\n",
              "      border-color: transparent;\n",
              "      border-bottom-color: var(--fill-color);\n",
              "      border-left-color: var(--fill-color);\n",
              "    }\n",
              "    20% {\n",
              "      border-color: transparent;\n",
              "      border-left-color: var(--fill-color);\n",
              "      border-top-color: var(--fill-color);\n",
              "    }\n",
              "    30% {\n",
              "      border-color: transparent;\n",
              "      border-left-color: var(--fill-color);\n",
              "      border-top-color: var(--fill-color);\n",
              "      border-right-color: var(--fill-color);\n",
              "    }\n",
              "    40% {\n",
              "      border-color: transparent;\n",
              "      border-right-color: var(--fill-color);\n",
              "      border-top-color: var(--fill-color);\n",
              "    }\n",
              "    60% {\n",
              "      border-color: transparent;\n",
              "      border-right-color: var(--fill-color);\n",
              "    }\n",
              "    80% {\n",
              "      border-color: transparent;\n",
              "      border-right-color: var(--fill-color);\n",
              "      border-bottom-color: var(--fill-color);\n",
              "    }\n",
              "    90% {\n",
              "      border-color: transparent;\n",
              "      border-bottom-color: var(--fill-color);\n",
              "    }\n",
              "  }\n",
              "</style>\n",
              "\n",
              "  <script>\n",
              "    async function quickchart(key) {\n",
              "      const quickchartButtonEl =\n",
              "        document.querySelector('#' + key + ' button');\n",
              "      quickchartButtonEl.disabled = true;  // To prevent multiple clicks.\n",
              "      quickchartButtonEl.classList.add('colab-df-spinner');\n",
              "      try {\n",
              "        const charts = await google.colab.kernel.invokeFunction(\n",
              "            'suggestCharts', [key], {});\n",
              "      } catch (error) {\n",
              "        console.error('Error during call to suggestCharts:', error);\n",
              "      }\n",
              "      quickchartButtonEl.classList.remove('colab-df-spinner');\n",
              "      quickchartButtonEl.classList.add('colab-df-quickchart-complete');\n",
              "    }\n",
              "    (() => {\n",
              "      let quickchartButtonEl =\n",
              "        document.querySelector('#df-09cef62b-adeb-4c94-b29a-407994222b51 button');\n",
              "      quickchartButtonEl.style.display =\n",
              "        google.colab.kernel.accessAllowed ? 'block' : 'none';\n",
              "    })();\n",
              "  </script>\n",
              "</div>\n",
              "\n",
              "    </div>\n",
              "  </div>\n"
            ],
            "application/vnd.google.colaboratory.intrinsic+json": {
              "type": "dataframe",
              "variable_name": "dataset",
              "summary": "{\n  \"name\": \"dataset\",\n  \"rows\": 37949,\n  \"fields\": [\n    {\n      \"column\": \"Index\",\n      \"properties\": {\n        \"dtype\": \"number\",\n        \"std\": 11979,\n        \"min\": 0,\n        \"max\": 44997,\n        \"num_unique_values\": 37949,\n        \"samples\": [\n          26330,\n          39807,\n          29950\n        ],\n        \"semantic_type\": \"\",\n        \"description\": \"\"\n      }\n    },\n    {\n      \"column\": \"Author\",\n      \"properties\": {\n        \"dtype\": \"category\",\n        \"num_unique_values\": 11744,\n        \"samples\": [\n          \"Jake Tapper, Ariane de Vogue, Jeff Zeleny, Betsy Klein and Maegan Vazquez, CNN\",\n          \"Hada Messia and Lauren Said-Moorhouse, CNN\",\n          \"Scott McLean, Livvy Doherty and Lauren Kent, CNN\"\n        ],\n        \"semantic_type\": \"\",\n        \"description\": \"\"\n      }\n    },\n    {\n      \"column\": \"Date published\",\n      \"properties\": {\n        \"dtype\": \"object\",\n        \"num_unique_values\": 37948,\n        \"samples\": [\n          \"2015-09-20 22:08:26\",\n          \"2018-08-23 10:13:03\",\n          \"2017-02-13 12:28:52\"\n        ],\n        \"semantic_type\": \"\",\n        \"description\": \"\"\n      }\n    },\n    {\n      \"column\": \"Category\",\n      \"properties\": {\n        \"dtype\": \"category\",\n        \"num_unique_values\": 9,\n        \"samples\": [\n          \"vr\",\n          \"business\",\n          \"politics\"\n        ],\n        \"semantic_type\": \"\",\n        \"description\": \"\"\n      }\n    },\n    {\n      \"column\": \"Section\",\n      \"properties\": {\n        \"dtype\": \"category\",\n        \"num_unique_values\": 55,\n        \"samples\": [\n          \"middleeast\",\n          \"perspectives\",\n          \"india\"\n        ],\n        \"semantic_type\": \"\",\n        \"description\": \"\"\n      }\n    },\n    {\n      \"column\": \"Url\",\n      \"properties\": {\n        \"dtype\": \"string\",\n        \"num_unique_values\": 37949,\n        \"samples\": [\n          \"https://www.cnn.com/2015/09/19/sport/rugby-world-cup-japan-south-africa/index.html\",\n          \"https://www.cnn.com/2020/07/10/sport/noah-lyles-inspiration-games-200m-spt-intl/index.html\",\n          \"https://www.cnn.com/2017/02/13/sport/nba-3-point-contest-all-star/index.html\"\n        ],\n        \"semantic_type\": \"\",\n        \"description\": \"\"\n      }\n    },\n    {\n      \"column\": \"Headline\",\n      \"properties\": {\n        \"dtype\": \"string\",\n        \"num_unique_values\": 37857,\n        \"samples\": [\n          \"Liverpool left wounded after taking 'morally wrong' decision amid Covid-19 pandemic - CNN\",\n          \"Alex Ferguson says Cristiano Ronaldo should have started against Everton - CNN\",\n          \"Nigel Farage responds to EU boos in CNN interivew - CNN\"\n        ],\n        \"semantic_type\": \"\",\n        \"description\": \"\"\n      }\n    },\n    {\n      \"column\": \"Description\",\n      \"properties\": {\n        \"dtype\": \"string\",\n        \"num_unique_values\": 37829,\n        \"samples\": [\n          \"Japan's relationship with the energy sector is, at best, complicated. \",\n          \"The Russian army has ceased ordering the famed Kalashnikov rifle for its arsenal and is waiting on a newer model its manufacturer is developing.\",\n          \"Anti-immigrant tensions in Denmark have apparently prompted someone to post signs pointing migrants to the way back home.\"\n        ],\n        \"semantic_type\": \"\",\n        \"description\": \"\"\n      }\n    },\n    {\n      \"column\": \"Keywords\",\n      \"properties\": {\n        \"dtype\": \"string\",\n        \"num_unique_values\": 37863,\n        \"samples\": [\n          \"europe, Serbia: the country at the crossroads of  Europe - CNN\",\n          \"us, Trump's characterization of the Robert E. Lee statue doesn't jibe with history - CNN\",\n          \"motorsport, Raikkonen a driver in demand  - CNN\"\n        ],\n        \"semantic_type\": \"\",\n        \"description\": \"\"\n      }\n    },\n    {\n      \"column\": \"Second headline\",\n      \"properties\": {\n        \"dtype\": \"string\",\n        \"num_unique_values\": 37881,\n        \"samples\": [\n          \"Former South Carolina officer is found not guilty of assault and battery in an arrest last year that led to nights of protests \",\n          \"Noura in her own words: Teen who killed rapist husband shares her story\",\n          \"US Paralympian Mike Schultz hopes radical prosthetics empower others\"\n        ],\n        \"semantic_type\": \"\",\n        \"description\": \"\"\n      }\n    },\n    {\n      \"column\": \"Article text\",\n      \"properties\": {\n        \"dtype\": \"string\",\n        \"num_unique_values\": 37918,\n        \"samples\": [\n          \"Gold Coast, Australia (CNN)There was a nod to the conventional worldwide image of Australia: golden beaches, surfboards, emus and kangaroos.Yet the abiding memory of the opening ceremony of the 2018 Commonwealth Games, a multi-sport event which is regarded by some as an enduring reminder of British imperialism, will be the celebration of Australia's Indigenous population's role in the country's history.Follow @cnnsport\\n\\nBritain's Prince Charles opened Gold Coast 2018 on behalf of his mother Queen Elizabeth II, head of the Commonwealth of countries and territories which once formed part of the British Empire.But the two-and-a-half-hour spectacle at the Carrara Stadium, broadcast to an expected global audience of a billion people, was a reminder that the host nation's past did not begin some 200 years ago with colonial rule.Charles removed the message from the Queen's Baton Relay, which has covered a distance of 230,000 kilometers over the course of 388 days, and then read out the Queen's recognition of Australia's rich history.Read More\\\"The ancient stories told by the Indigenous people of Australia remind us that though we may be half a world away we are connected,\\\" he read. Photos: 71 nations, 275 eventsElaine Thompson (Jamaica) \\u2013 Thompson lit up the Rio 2016 Olympics, becoming the first woman to win gold in both individual Olympic sprint events since Florence Griffith Joyner at Seoul 1988.Hide Caption 1 of 20 Photos: 71 nations, 275 eventsShaunae Miller (Bahamas) \\u2013 In one of the most striking moments of the 2016 Olympics, Miller dived across the line to win 400m gold, edging out Allyson Felix of the US. Hide Caption 2 of 20 Photos: 71 nations, 275 eventsCaster Semenya (South Africa) \\u2013 A two-time Olympic 800m champion, Semenya has recently begun running in the 1,500m and she could compete on two fronts in April.Hide Caption 3 of 20 Photos: 71 nations, 275 eventsValerie Adams (New Zealand) \\u2013 Capable of throwing a shot over 21 meters, Adams is the first woman in history to win four consecutive individual world titles in a track and field event. The two-time Olympic champion has only been beaten twice in major world events since 2006.Hide Caption 4 of 20 Photos: 71 nations, 275 eventsKeshorn Walcott (Trinidad and Tobago) \\u2013 He may only have taken up the javelin aged 15 but \\\"Keshie\\\" Walcott had won Olympic gold in London before his 20th birthday. He followed up with bronze in Rio.Hide Caption 5 of 20 Photos: 71 nations, 275 eventsEliza McCartney (New Zealand) \\u2013 The Kiwi won pole vault bronze at Rio 2016 in her first ever Olympics and, having only recently turned  21, still has her best years ahead of her.Hide Caption 6 of 20 Photos: 71 nations, 275 eventsNicol David (Malaysia) \\u2013 Widely considered one of the the greatest female squash players of all time, David was world No. 1 for a staggering 108 consecutive months, only losing her throne in September 2015. She will be looking for a third consecutive Commonwealth gold in April?Hide Caption 7 of 20 Photos: 71 nations, 275 eventsLee Chog Wei (Malaysia) \\u2013 The most successful Malaysian Olympian in history, Lee was the world No. 1 badminton player for 199 consecutive weeks. The 35-year-old has taken home silver at the past three Olympic Games.Hide Caption 8 of 20 Photos: 71 nations, 275 eventsMax Whitlock (England) \\u2013 His nation's most successful gymnast, Englishman Whitlock has five Olympic medals to his name, including gold in the men's floor exercises and pommel horse at Rio 2016.Hide Caption 9 of 20 Photos: 71 nations, 275 eventsCatherine Skinner (Australia) \\u2013 Skinner became the first Australian to win Olympic gold in a shooting event for 12 years when she triumphed at Rio 2016 in the trap.Hide Caption 10 of 20 Photos: 71 nations, 275 eventsJerry Tuwai (Fiji) \\u2013 Growing up in a shanty with no electricity, Tuwai used plastic bottles for rugby balls and a roundabout for a pitch. Now, as an Olympic gold medalist and captain of his country, the 28-year-old will be determined to add a Commonwealth crown.Hide Caption 11 of 20 Photos: 71 nations, 275 eventsCharlotte Caslick (Australia) \\u2013 Having never even played the sport until her late teens, Caslick was named World Rugby Sevens women's Player of the Year in 2016. Still just 22, the all-rounder is already an Olympic gold medalist.Hide Caption 12 of 20 Photos: 71 nations, 275 eventsKyle Chalmers (Australia) \\u2013 The teenage freestyle swimmer beat an experienced field to take gold in the Rio 2016 100m final. He was the first Australian to win the particular event since 1968.Hide Caption 13 of 20 Photos: 71 nations, 275 eventsAdam Peaty (England) \\u2013 A world record holder in both the 50m and 100m, Peaty has made no secret of his desire to be the Michael Phelps of breaststroke, recently taking CNN Sport through his secrets of swimming success.Hide Caption 14 of 20 Photos: 71 nations, 275 eventsPenny Oleksiak (Canada) \\u2013 When Oleksiak (R) won the women's 100m freestyle final at Rio 2016, many of the headlines focused on the woman she tied with for gold. Simone Manuel of the US (L) was the first African-American Olympic swimming champion in history, but it should not be forgotten Oleksiak will still be just 17 years old when she competes on the Gold Coast.Hide Caption 15 of 20 Photos: 71 nations, 275 eventsJazz Carlin (Wales) \\u2013 The first Welsh woman to win a Commonwealth swimming gold since 1974, Carlin has a great chance to retain her title in April, having won silver medals in both the 400m and 800m freestyle at Rio 2016.Hide Caption 16 of 20 Photos: 71 nations, 275 eventsAlistair & Jonathan Brownlee (England) \\u2013 Alistair Brownlee (L) may be the only triathlete to win two Olympic titles, but his younger brother Jonny (R) isn't half bad either, having taken silver at Rio 2016 and the last Commonwealth Games in Glasgow.Hide Caption 17 of 20 Photos: 71 nations, 275 eventsAlex Marshall & Paul Foster (Scotland) \\u2013 With 11 world singles titles and seven Commonwealth Games golds between them, Foster and Marshall are the undisputed kings of lawn bowls.Hide Caption 18 of 20 Photos: 71 nations, 275 eventsMaryam Usman (Nigeria) \\u2013 The reigning commonwealth champion in the women's +75kg category will hope to improve on her disappointing showing at the past Olympics, when she blamed a lack of preparation.Hide Caption 19 of 20 Photos: 71 nations, 275 eventsSakshi Malik (India) \\u2013 The first woman from India to win a medal in Olympic wrestling, Malik took bronze in the -58kg freestyle in Rio, building on the silver she won at the 2014 Glasgow Commonwealth Games. Who are you looking forward to seeing at the Commonwealth Games? Have your say on CNN Sport's Facebook pageHide Caption 20 of 20READ: A guide to the Commonwealth Games Aboriginal protests Hours before the ceremony began, the Queen's baton relay was delayed by Indigenous activists holding a sit-in. They held aloft Australian Aboriginal flags and signs reading \\\"Not the Queen's Land.\\\"Australia's Indigenous population is composed of mainland Aboriginal people and Torres Strait Islanders, who live in northern Queensland on the islands between Australia and Papua New Guinea.JUST WATCHEDWhat are the Commonwealth Games?ReplayMore Videos ...MUST WATCHWhat are the Commonwealth Games? 01:23We are buzzing \\u2728\\ud83c\\udf89\\u2728That's how you kick off 11 days of unforgettable sport! Head over to our Facebook for a full album of the #GC2018 Opening Ceremony! #SHARETHEDREAM https://t.co/Ph82XAL8ni pic.twitter.com/RlVzLxJ5RA\\u2014 Gold Coast 2018 (@GC2018) April 4, 2018\\n\\nBut on basic standards of living -- from health, to education, to employment -- Australia's Indigenous population is being left far behind.Flanked by a significant police presence, protestors were also present outside the Carrara Stadium before the Games officially got underway.Large protests marred the Commonwealth Games in Melbourne in 2006, the last time the country hosted a sporting event on this scale, but the discord of 12 years ago has not yet been matched on the Gold Coast.And whether the representation of Australia's Indigenous past in such a global ceremony will help soothe the anger of those who believe an important part of the country's history is being overlooked is a moot point.JUST WATCHEDAthletes take the CNN Commonwealth Games QuizReplayMore Videos ...MUST WATCHAthletes take the CNN Commonwealth Games Quiz 02:12 READ: Aussie sister act bidding to be golden girls on the Gold CoastFlags flying in unisonThe ceremony began with cameras focusing on an Aboriginal family in the crowd. They were the relatives of Delvene Cockatoo-Collins, the man who designed the medals for these Games.The artist's 11-year-old niece, Isabella Graham, made visible a message on her smartphone which read \\\"welcome to the oldest living culture on earth\\\" -- Australia's First Nations peoples is one of the longest living civilizations on earth.She then activated a digital countdown from 65,000, a reference to the number of years the history of Australia's Indigenous population spans.Our #GC2018 Commemorative Medal features a whale design by artist Delvene Cockatoo-Collins. A whale's migration travels the QLD coastline, passing our event cities. Symbolic of the journey an athlete takes to prepare for competition. More here \\u27a1\\ufe0f  https://t.co/z4mQ15ss9z pic.twitter.com/NxfdfmkNMc\\u2014 Gold Coast 2018 (@GC2018) April 4, 2018\\n\\nHeavy rain for a 10-minute period at the start lessened the impact of a blue dome of pyrotechnics which represented the planet, but the brief downpour did not dampen the mood.There was a live segment from Surfers Paradise, the famous beach area in this part of eastern Australia, and the acclaimed William Barton played the didgeridoo.Mau Power, the first rapper from the Torres Strait to break into the Australian music scene, performed, as did Queensland-born singer Christine Anu and pop star Delta Goodrem.Alongside the Australian flag flew the Aboriginal and Torres Strait Islander flags and as the ceremony came to its conclusion Luther Cora, a contemporary Aboriginal artist, and his family conducted a traditional smoking ceremony.It is a custom still widely practiced among many Indigenous Australians and involves the burning of various native plants to cleanse in the smoke and connect with good spirits. Photos: Exploring Australia's Gold CoastAustralia's stunning Gold Coast will stage the 2018 Comonwealth Games from April 4-15. Here are the venues that will host the event on the country's East coast.Hide Caption 1 of 16 Photos: Exploring Australia's Gold CoastCarrara Stadium \\u2013 The heartbeat of this year's Commonwealth Games is the Carrara Stadium and its capacity has been boosted from 27,500 to 40,000. the venue will host track and field events as well as the opening and closing ceremonies. The arena is home to AFL team the Gold Coast Suns.Hide Caption 2 of 16 Photos: Exploring Australia's Gold CoastCoolangatta beach \\u2013 Views don't get much better than the dazzling Coolangatta beach, which will morph into the beach volleyball arena for the Commonwealth Games. Up to 4,000 will pack onto the shores of the Gold Coast for the action. Hide Caption 3 of 16 Photos: Exploring Australia's Gold CoastTownsville Entertainment and Convention Center \\u2013 Australia is renowned for its sunny beaches and crystal seas, and Townsville, one of the three host locations outside the Gold Coast, is no exception. Close to the world-famous Great Barrier Reef, the Queensland city will host basketball fixtures at this year's Games. Hide Caption 4 of 16 Photos: Exploring Australia's Gold CoastCairns Convention Center \\u2013 Basketball heats will also take place in Cairns. The Center here has a capacity of 5,000. Hide Caption 5 of 16 Photos: Exploring Australia's Gold CoastOptus Aquatic Center \\u2013 Stunning sands will be easy to find for fans in Australia, which is hosting its sixth Commonwealth Games. Down on the seafront is the Optus Aquatic Center, where spectators can catch diving and swimming events. Hide Caption 6 of 16 Photos: Exploring Australia's Gold CoastSouthport Broadwater Parklands \\u2013 This park will host the triathlon, where England's Brownlee brothers will look to defend their one-two secured in Glasgow in 2014. Hide Caption 7 of 16 Photos: Exploring Australia's Gold CoastRobina Stadium \\u2013 Home to the NRL's Gold Coast Titans, the 27,500-seat stadium will play host the rugby sevens. South Africa won in 2014, the first time a team other than New Zealand lifted the trophy. A women's competition will take place for the first time ever this year. Hide Caption 8 of 16 Photos: Exploring Australia's Gold CoastOxenford Studios \\u2013 Better known as the set of a blockbuster movie, these Gold Coast studios will be transformed into venues for table tennis and boxing with a capacity of 3,000. Hide Caption 9 of 16 Photos: Exploring Australia's Gold CoastGold Coast Hockey Center \\u2013 Situated in Labrador's Keith Hunt Park, this year's hockey venue has the luxury of two new, synthetic pitches. Australia has historically dominated this event, with the men triumphing every year since the sport's Commonwealth inception in 1998 and only an India victory in 2002 tarnishing the women's record. Hide Caption 10 of 16 Photos: Exploring Australia's Gold CoastAnna Meares Velodrome \\u2013 Track cycling will be held in Brisbane at this 4,000-seat, $59-million venue, named after the retired Australian athlete who won two Olympic and five Commonwealth titles. The other Brisbane site of the Games is the Belmont Shooting Center. Hide Caption 11 of 16 Photos: Exploring Australia's Gold CoastNerang Mountain Bike Trails \\u2013 A year-long project throughout 2016 helped revamp the trails and facilities of the Nerang National Park in preparation for the mountain bike competition. Hide Caption 12 of 16 Photos: Exploring Australia's Gold CoastBroadbeach Bowls Club \\u2013 Bowls has a long tradition at the Commonwealth Games, dating back to the inaugural British Empire Games -- as it was then called -- in 1930. The 2018 event will be held in a spruced-up venue next to the sea. Hide Caption 13 of 16 Photos: Exploring Australia's Gold CoastCarrara Sports and Leisure Centre \\u2013 Weightlifting, badminton, powerlifting and wrestling will all be hosted in the shadow of the Carrara Stadium.Hide Caption 14 of 16 Photos: Exploring Australia's Gold CoastCoomera Indoor Sports Centre \\u2013 The Coomera Indoor Sports Center is the largest purpose-built arena that the 2018 Commonwealth Games has to offer. The 7,500-capacity venue will host gymnastics and netball.  Hide Caption 15 of 16 Photos: Exploring Australia's Gold CoastCurrumbin beachfront \\u2013 Road cycling and race walking will start and finish on the picturesque Currumbin Bay. Pictured is a test event of the Cycling Road Race. Hide Caption 16 of 16READ: NZ'S Bond switches strokes for spokesAn uncertain Royal futureThe Commonwealth is a larger entity now than it was at the Queen's coronation in 1953.#GC2018 has been declared OPEN! What an amazing opening ceremony, we're still buzzing from the excitement! #SHARETHEDREAM \\ud83d\\ude4c https://t.co/uyeAAvnYi8\\u2014 Gold Coast 2018 (@GC2018) April 4, 2018\\n\\nOn her accession to the throne, she also became head of state in seven of the Commonwealth's eight members. Today she is head of state of 15 realms among 53 members, all but two of which -- Mozambique and Rwanda -- are countries and territories which formed part of the British Empire.But the Royal visit Down Under has come at a time when support for the monarchy, according to the Sunday Times, has fallen to an all-time low in the country, with a recent poll putting support at retaining the British sovereign as head of state at 22%.Last July, Labor leader Bill Shorten said the party would hold a referendum by the end of his first term, should he win the next election, on whether Australia should become a republic. Photos: By royal approvalThe words of the Queen will once more open the Commonwealth Games, this year in the Gold Coast, Australia.Hide Caption 1 of 9 Photos: By royal approvalWhile not in attendance, her speech will be delivered from a written note inside the Queen's Baton Relay, which has traveled throughout the Commonwealth before the Games.Hide Caption 2 of 9 Photos: By royal approvalThe Queen has had a long association with the Games during her reign. Here she hands out a medal at the 1970 Games in Edinburgh.Hide Caption 3 of 9 Photos: By royal approvalShe has tried to play a close role in every Games since, whether handing out medals or at the opening and/or closing ceremonies.Hide Caption 4 of 9 Photos: By royal approvalShe was on hand to open the 2002 Games along with former England football captain David Beckham.Hide Caption 5 of 9 Photos: By royal approvalShe was absent from the Games in India in 2010 but again took part in the Queen's Baton Relay.Hide Caption 6 of 9 Photos: By royal approvalShe was, however, in attendance in Glasgow 2014, meeting the likes of Australian hurdler Sally Pearson.Hide Caption 7 of 9 Photos: By royal approvalBut she has opted to stay away from Australia having cut down on her long-distance foreign travel.Hide Caption 8 of 9 Photos: By royal approvalInstead, her son Prince Charles will be on hand to read out the speech from the Queen's Baton Relay.Hide Caption 9 of 9READ: Queen Elizabeth's 'secret message in a bottle''Friendly Games' If the Australia's constitutional future is unclear, so to arguably is the fate of an event which is in its ninth decade.Many of the participants in a competition often referred to as the \\\"Friendly Games\\\" are not Olympic all-stars, though there are significant figures competing over the next 11 days -- Olympic champions Adam Peaty and Alistair Brownlee, former Olympic swimming gold medalist Chad Le Clos and track and field stars Caster Semenya and Valarie Adams, to name a few.In this sport-obsessed country hosting the Games for a fifth time and eager to forget about the national cricket team's ball-tampering scandal, this sporting festival should prove a welcome distraction.More than 4,500 athletes from 71 nations will compete for 275 gold medals.Never before at a major multi-sport event have there been the same number of men's and women's medal events, while Gold Coast 2018 also has the largest program of disability sport in the competition's history.History has been celebrated and it has already been made. Let the Games begin.\",\n          \" (CNN)The US Open normally marks the end of the grand slam season. But the coronavirus pandemic changed that and having another major just around the corner could be exactly what Novak Djokovic needs to overcome the lowest point of his career. That is the thought of his friend and former coach Radek Stepanek, and former world No. 1 Jim Courier. Another comeback win for Serena Williams at the US OpenStepanek isn't discounting a turnaround in the land of public opinion at some point when it comes to Djokovic, either, despite his rocky last few months. He has made an eye-catching pronouncement on vaccines, discussed the effects of emotions on water, organized the Adria Tour exhibition series in the Balkans that went badly wrong and, most recently, left the US Open in shame. There wouldn't have been as many players in recent history as strong a favorite to land a major than Djokovic in New York this year, given his dominance -- unbeaten in 2020 -- and the absence of his two biggest rivals, Roger Federer and Rafael Nadal. Read MoreDjokovic, though, was defaulted Sunday when he hit a ball that inadvertently struck a line judge in the throat. Frustration got the better of the 17-time grand slam winner after missing three set points in the first against Pablo Carreno Busta, hurting his left shoulder in a fall and then getting broken to trail 5-6 in a frantic 10-minute spell.He later apologized on social media. READ: Barty will not defend her French Open titleNovak Djokovic tends to a line judge who he hit with the ball.'He is very sad inside'Stepanek is a massive fan of Djokovic but he had no issue with the decision tournament officials made. The Czech, who coached Djokovic alongside Hall of Famer Andre Agassi for several months from 2017 to 2018, suspected the Serb was suffering.  \\\"I know he is very sad inside himself and he is in pain,\\\" Stepanek, a former world No. 8 and a Davis Cup hero for the Czech Republic, told CNN. \\\"He is in pain because it was unintentional and, in that moment, the pain is bigger. \\\"And it's hard for him because we know how hungry he is to become the player with the most grand slams. I believe he felt -- everyone felt -- this one should be for him, reachable. \\\"All these circumstances make it very sad for him and in the first moment, empty, because I believe he himself knew that it was wrong that she got hit.\\\"Obviously the pressure on him and the criticism he is getting over time, it's hard. He's trying to do the best he can. He might be by the end of his career the greatest of all time. We are all human beings. We have a right to make a mistake.\\\" When it was pointed out to Stepanek that Djokovic might have made a few mistakes, he didn't disagree. \\\"We create our own world and mistakes,\\\" said Stepanek, who irked an opponent or two during his career but was one of the most entertaining players of his generation. \\\"We have to accept the outcome of it.\\\"For the time being, Stepanek said Djokovic is likely seeking refuge with those nearest and dearest to him. They would include his wife, Jelena, and their two young children.\\\"I think he's going to go back to his family and the closest ones to feel in the safe environment,\\\" said Stepanek. \\\"Be with his loved ones. I think that one of his biggest strengths is his mental power. \\\"No matter how sad and empty he is right now -- and from what I know, it is very deep because he is a deep feeling person and he is sensitive -- he is also hard on himself right now. I think the thing that gets him out of this will be getting back to work.\\\"READ: 'He's going to be the bad guy the rest of his career,' says McEnroe of DjokovicDjokovic with his former coach Radek Stepanek in 2018.Cathartic returnDjokovic is expected to return to action at the upcoming Italian Open in Rome before his appearance at the French Open, which was pushed back from its customary slot in late May to September 27 in Paris because of the pandemic. \\\"He'll have a clay court event to focus on that starts in a week's time and he'll need to get ready for that, change surface from hard to the clay,\\\" Courier told CNN.\\\"That could be cathartic for him, to have something so quickly to be able to help him put behind this unfortunate incident.\\\"The bad news for him is that he's out of the US Open but the good news for him is the French Open is right around the corner and he'll have the chance to turn the page and move on.\\\" With 12 titles, Nadal will be the heavy favorite at Roland Garros, again, but Djokovic shouldn't be discounted. He is one of only two players to defeat the Spaniard at Roland Garros, alongside Robin Soderling. There is much at stake in Paris regarding the grand slam record books. If Nadal adds to his incredible haul, he would tie Federer atop the men's list with 20 majors. Djokovic would get to within two majors of Federer -- who is recovering from knee surgery and won't play again this season -- for the first time if he triumphs. Roland Garros two years ago proved to be instrumental to Djokovic's renaissance after an elbow injury and dip in motivation. Miffed at exiting in the quarterfinals to Marco Cecchinato when he had one opportunity after another, he subsequently won Wimbledon and had bagged three of the past five grand slams. \\\"It's going to be intense for quite some time with what happened, but I believe when he gets back on court and gets his eye on the possible trophy that he will focus on what he is doing and he will get strong again,\\\" said Stepanek. JUST WATCHED'I feel safe' at US Open, says Alexander ZverevReplayMore Videos ...MUST WATCH'I feel safe' at US Open, says Alexander Zverev 04:07Winning back fansDjokovic was already trailing Federer and Nadal when it came to fan support prior to his miscue on Sunday. His matches against the Swiss at Wimbledon and at the year-end championships in London are just some examples.But Stepanek isn't ruling out an uptick. \\\"He's done a lot for tennis,\\\" said the 41-year-old. \\\"I believe people will love him, some others will not like him, it's all individual. Obviously we know that Roger and Rafa are more famous, but if he picks up, you don't know what the future holds. \\\"I lived it for 20-plus years on the tour and you don't know what tomorrow holds. You never know what can happen.\\\"\",\n          \"Izmir, Turkey (CNN)Rescue efforts continued apace in the western Turkish city of Izmir on Saturday, a day after a powerful earthquake hit the Aegean Sea, causing buildings to come crashing down and claiming the lives of at least 39 people.Thirty-seven of the deaths were in Turkey, authorities there said, and two were in Greece. At least 885 people were injured in Turkey.A total of 20 buildings were seriously damaged in Izmir by the tremor Friday afternoon, according to Izmir Mayor Tunc Soyer, the majority of them in the middle-class Bayrakli district.Search-and-rescue operations remained underway in nine buildings as of Saturday afternoon, while operations have been completed in eight other buildings, Turkey's disaster agency said.Turkish President Recep Tayyip Erdogan said Saturday that 103 people have been rescued from the quake's rubble.Read MoreOvernight, tens of people gathered anxiously around each collapsed building, huddling under blankets in the bitter cold as search-and-rescue teams worked to locate those trapped. The rumble of heavy construction machinery filled the air, punctuated by bursts of crying and shouting. Photos: Deadly quake shakes Turkey and GreeceRescuers carry 3-year-old Elif Perincek after she was rescued from the rubble of a building in Izmir, Turkey, on Monday, November 2.Hide Caption 1 of 34 Photos: Deadly quake shakes Turkey and GreeceElif rests in a hospital bed following her rescue.Hide Caption 2 of 34 Photos: Deadly quake shakes Turkey and GreeceCrews work at the site of a collapsed building in Izmir.Hide Caption 3 of 34 Photos: Deadly quake shakes Turkey and GreeceA view of the destruction on the Greek island of Samos.Hide Caption 4 of 34 Photos: Deadly quake shakes Turkey and GreeceSurvivors in Izmir wait for news of their loved ones, believed to be trapped under collapsed buildings, on Sunday, November 1. Hide Caption 5 of 34 Photos: Deadly quake shakes Turkey and GreeceRescuers search debris for survivors in Izmir.Hide Caption 6 of 34 Photos: Deadly quake shakes Turkey and GreeceAn emergency camp for displaced people was set up at the Eski Bornova stadium in Izmir.Hide Caption 7 of 34 Photos: Deadly quake shakes Turkey and GreeceMembers of a rescue crew carry a victim's body in Izmir.Hide Caption 8 of 34 Photos: Deadly quake shakes Turkey and GreeceAn imam prays in Izmir as people attend the November 1 funeral of Bayram and Hatice Dogruya, a married couple killed in the earthquake.Hide Caption 9 of 34 Photos: Deadly quake shakes Turkey and GreeceThe damaged Greek Orthodox church of Karlovasi is pictured on the Greek island of Samos on Saturday, October 31.Hide Caption 10 of 34 Photos: Deadly quake shakes Turkey and GreeceThis rescued cat was found by a search dog and pulled from the debris in Izmir.Hide Caption 11 of 34 Photos: Deadly quake shakes Turkey and GreeceEmergency workers search a collapsed building for survivors in Izmir.Hide Caption 12 of 34 Photos: Deadly quake shakes Turkey and GreeceGuards walk by a collapsed building in Izmir on October 31.Hide Caption 13 of 34 Photos: Deadly quake shakes Turkey and GreeceRescue workers search for survivors in the debris of a collapsed building in Izmir.Hide Caption 14 of 34 Photos: Deadly quake shakes Turkey and GreecePeople try to save residents trapped in the debris of a collapsed building in Izmir on Friday, October 30.Hide Caption 15 of 34 Photos: Deadly quake shakes Turkey and GreeceRescuers carry a wounded person who was pulled from debris in Izmir.Hide Caption 16 of 34 Photos: Deadly quake shakes Turkey and GreeceThis aerial photo shows a collapsed building in the Bornova district of Izmir.Hide Caption 17 of 34 Photos: Deadly quake shakes Turkey and GreeceSearch and rescue operations take place at a building in Izmir.Hide Caption 18 of 34 Photos: Deadly quake shakes Turkey and GreeceA woman reacts as search-and-rescue teams work through the debris of a collapsed building in Izmir.Hide Caption 19 of 34 Photos: Deadly quake shakes Turkey and GreeceCars are piled up on Samos after the quake.Hide Caption 20 of 34 Photos: Deadly quake shakes Turkey and GreecePeople search for survivors in a building that collapsed in Izmir.Hide Caption 21 of 34 Photos: Deadly quake shakes Turkey and GreeceA man weeps as people try to save residents trapped under rubble in Izmir.Hide Caption 22 of 34 Photos: Deadly quake shakes Turkey and GreeceRescue crews move rubble in Izmir.Hide Caption 23 of 34 Photos: Deadly quake shakes Turkey and GreeceA car and boats are damaged on the coast of Izmir.Hide Caption 24 of 34 Photos: Deadly quake shakes Turkey and GreeceA woman reacts as search-and-rescue teams work at a building site in Izmir.Hide Caption 25 of 34 Photos: Deadly quake shakes Turkey and GreeceA wounded person is rescued from a collapsed building in Izmir.Hide Caption 26 of 34 Photos: Deadly quake shakes Turkey and GreeceA wounded woman hugs a relative after being rescued from a building in Izmir.Hide Caption 27 of 34 Photos: Deadly quake shakes Turkey and GreecePeople stand outside buildings in Izmir after the quake.Hide Caption 28 of 34 Photos: Deadly quake shakes Turkey and GreeceVolunteers work at the scene of a collapsed building in Izmir.Hide Caption 29 of 34 Photos: Deadly quake shakes Turkey and GreecePeople gather in a street in Izmir.Hide Caption 30 of 34 Photos: Deadly quake shakes Turkey and GreecePeople walk past a damaged house after the earthquake struck near Samos.Hide Caption 31 of 34 Photos: Deadly quake shakes Turkey and GreecePeople in Izmir take refuge outdoors after the earthquake.Hide Caption 32 of 34 Photos: Deadly quake shakes Turkey and GreeceSearch-and-rescue work is conducted at a collapsed building in Izmir.Hide Caption 33 of 34 Photos: Deadly quake shakes Turkey and GreeceSeawater covers a square at the Vathi port in Samos.Hide Caption 34 of 34Much of the activity was focused on the large Riza building, which housed businesses and apartments on its eight floors.One survivor, 28-year-old Buse Hasyilmaz, was pulled alive from the rubble there at about midnight, several hours after the building collapsed. Hasyilmaz, who was at a dental practice in the building with her parents when the earthquake hit, was able to talk to rescue teams and a Turkish minister on the phone while they were trying to reach her. In a video from the scene, she told them \\\"unleash the dogs. I will make a cat sound,\\\" in an effort to attract the rescue dogs' attention. The minister responded that this was a good idea, adding: \\\"I want you to remain calm like this. Keep your spirits up and be patient.\\\"Hasyilmaz's father was also rescued safely. It wasn't immediately clear whether her mother had been located.JUST WATCHEDSee the moment a powerful earthquake rocked a city in TurkeyReplayMore Videos ...MUST WATCHSee the moment a powerful earthquake rocked a city in Turkey 03:05Hours later, workers reached and rescued 16-year-old Inci in the same building. \\\"I'll come and listen to you play the violin,\\\" a female rescue worker promises the teenager, seen in another video. Her legs are trapped, she can't feel them. She's pinned down by a block of cement. \\\"I hurt a lot,\\\" Inci says, pleading with the rescue worker to hold her hand. For nearly a full day she's been alone, in pain and terrified.\\\"You look like your mother. She's fine, she's waiting for you,\\\" the rescue worker tells her. As the search teams work to clear buckets of rubble, hauling away concrete beams, they call out for quiet. An eerie silence descends on the crowds.This is just one of many videos showing the incredible efforts of the teams searching through the aftermath of the quake. In another collapsed building a mother and her four children were all pulled out alive, 23 hours after the tremors. One of them later died, the Turkish health minister said. A young woman whose husband was trapped under the rubble at his mother's house, where he had been working while his mother was away, hoped for good news on Saturday morning.Rescue teams had told her that thermal cameras showed a man moving, she told CNN. She was praying that her husband would be safely reunited with their two children, aged seven and 10.A nurse, who asked not to be named, said her colleague was under the rubble in Bayrakli with her two nephews. She told CNN that she was confident her colleague's professional skills would help all three to survive.Hundreds of aftershocksThe United States Geological Survey (USGS) measured the tremor's magnitude at 7.0, while Turkish authorities said it was 6.6. The quake struck 14 kilometers (8.7 miles) northeast of the town of N\\u00e9on Karlov\\u00e1sion on Samos, the USGS reported, at 1:51 pm Greek time (7:51 a.m. ET).It hit at a relatively shallow depth of 21 kilometers (13 miles), the USGS reported, making its impact powerfully felt at ground level around the epicenter.     There have been 615 aftershocks so far, of which more than 40 were over 4.0 magnitude, the Turkish disaster agency said Saturday. Greek authorities said two teenagers, a boy and a girl, died on the Greek island of Samos after a wall collapsed on them. The earthquake triggered what authorities have called a \\\"mini tsunami.\\\"TV footage showed water flooding through the streets of Cesme and Seferihisar in parts of Turkey's wider Izmir province, as well as on Samos. No tsunami warnings were issued.Greece-Turkey tensionsIdil Gungor, who works as a journalist and runs a guesthouse in the Turkish town of Si\\u011facik in Izmir province, said Friday that the area was damaged more by the force of the water than the quake itself.Rescue workers and local people carry a wounded person found in the debris of a collapsed building, in Izmir, on Friday. Her guesthouse, in a 100-year-old building, had been inundated and fish were swimming inside it, she said. Shops in town had also been flooded and their goods damaged.Greek Prime Minister Kyriakos Mitsotakis said Friday on Twitter that he had spoken to his Turkish counterpart and offered his condolences. Tensions between the two nations have flared recently over energy claims in the eastern Mediterranean.  \\\"Whatever our differences, these are times when our people need to stand together,\\\" Mitsotakis wrote.In a tweet, the Turkish president offered his condolences to Greece and said \\\"that two neighbors show solidarity in difficult times is more valuable than many things in life.\\\"According to Erdogan, both Turkey and Greece were ready to send aid to the other.French Interior Minister G\\u00e9rald Darmanin said on Twitter his country had also offered to send assistance to Turkey and Greece. Isil Sariyuce reported from Izmir, Yusuf Gezer reported from Istanbul and Laura Smith-Spark wrote from London.\"\n        ],\n        \"semantic_type\": \"\",\n        \"description\": \"\"\n      }\n    }\n  ]\n}"
            }
          },
          "metadata": {},
          "execution_count": 10
        }
      ]
    },
    {
      "cell_type": "code",
      "source": [
        "print('Columns: ', dataset.columns)"
      ],
      "metadata": {
        "colab": {
          "base_uri": "https://localhost:8080/"
        },
        "id": "jzU6nz27VYuy",
        "outputId": "8aa8e8c1-dcf9-4428-dc24-5c106479dd3e"
      },
      "execution_count": null,
      "outputs": [
        {
          "output_type": "stream",
          "name": "stdout",
          "text": [
            "Columns:  Index(['Index', 'Author', 'Date published', 'Category', 'Section', 'Url',\n",
            "       'Headline', 'Description', 'Keywords', 'Second headline',\n",
            "       'Article text'],\n",
            "      dtype='object')\n"
          ]
        }
      ]
    },
    {
      "cell_type": "code",
      "execution_count": null,
      "metadata": {
        "colab": {
          "base_uri": "https://localhost:8080/"
        },
        "id": "JLw76t78eg0u",
        "outputId": "23933d87-29ce-489d-fd36-01deff34129e"
      },
      "outputs": [
        {
          "output_type": "stream",
          "name": "stdout",
          "text": [
            "<class 'pandas.core.frame.DataFrame'>\n",
            "RangeIndex: 37949 entries, 0 to 37948\n",
            "Data columns (total 11 columns):\n",
            " #   Column           Non-Null Count  Dtype \n",
            "---  ------           --------------  ----- \n",
            " 0   Index            37949 non-null  int64 \n",
            " 1   Author           37949 non-null  object\n",
            " 2   Date published   37949 non-null  object\n",
            " 3   Category         37949 non-null  object\n",
            " 4   Section          37949 non-null  object\n",
            " 5   Url              37949 non-null  object\n",
            " 6   Headline         37949 non-null  object\n",
            " 7   Description      37949 non-null  object\n",
            " 8   Keywords         37949 non-null  object\n",
            " 9   Second headline  37949 non-null  object\n",
            " 10  Article text     37940 non-null  object\n",
            "dtypes: int64(1), object(10)\n",
            "memory usage: 3.2+ MB\n"
          ]
        }
      ],
      "source": [
        "dataset.info()"
      ]
    },
    {
      "cell_type": "code",
      "execution_count": null,
      "metadata": {
        "colab": {
          "base_uri": "https://localhost:8080/"
        },
        "id": "fPvpoUg7eg0x",
        "outputId": "253d25e1-7e62-4bba-c7d8-4acd52a948d8"
      },
      "outputs": [
        {
          "output_type": "stream",
          "name": "stdout",
          "text": [
            "Series([], Name: count, dtype: int64)\n"
          ]
        }
      ],
      "source": [
        "duplicate_urls = dataset.Url.value_counts()[dataset.Url.value_counts() > 1]\n",
        "print(duplicate_urls)"
      ]
    },
    {
      "cell_type": "code",
      "source": [
        "\n",
        "\n",
        "dataset.duplicated().sum()\n"
      ],
      "metadata": {
        "colab": {
          "base_uri": "https://localhost:8080/"
        },
        "id": "2cVZluh3kh1g",
        "outputId": "29156284-61bf-467c-d2b3-89c161082d40"
      },
      "execution_count": null,
      "outputs": [
        {
          "output_type": "execute_result",
          "data": {
            "text/plain": [
              "0"
            ]
          },
          "metadata": {},
          "execution_count": 14
        }
      ]
    },
    {
      "cell_type": "code",
      "execution_count": null,
      "metadata": {
        "colab": {
          "base_uri": "https://localhost:8080/"
        },
        "id": "CUnaSI9Keg0w",
        "outputId": "b65a1085-404c-4b20-c431-a95144d7d85c"
      },
      "outputs": [
        {
          "output_type": "stream",
          "name": "stdout",
          "text": [
            "Null Values:  Index              0\n",
            "Author             0\n",
            "Date published     0\n",
            "Category           0\n",
            "Section            0\n",
            "Url                0\n",
            "Headline           0\n",
            "Description        0\n",
            "Keywords           0\n",
            "Second headline    0\n",
            "Article text       9\n",
            "dtype: int64\n"
          ]
        }
      ],
      "source": [
        "print(\"Null Values: \", dataset.isnull().sum())"
      ]
    },
    {
      "cell_type": "code",
      "execution_count": null,
      "metadata": {
        "colab": {
          "base_uri": "https://localhost:8080/"
        },
        "id": "3Od1fL-heg0z",
        "outputId": "e77b839e-4f8c-4552-9ae0-cd534b8cef68"
      },
      "outputs": [
        {
          "output_type": "stream",
          "name": "stdout",
          "text": [
            "Category:  ['news' 'business' 'health' 'entertainment' 'sport' 'politics' 'travel'\n",
            " 'vr' 'style']\n"
          ]
        }
      ],
      "source": [
        "print('Category: ', dataset.Category.unique())"
      ]
    },
    {
      "cell_type": "code",
      "execution_count": null,
      "metadata": {
        "colab": {
          "base_uri": "https://localhost:8080/"
        },
        "id": "lflyYf8Qeg0z",
        "outputId": "41b3cd24-0121-4738-edfa-604d26a15c92"
      },
      "outputs": [
        {
          "output_type": "stream",
          "name": "stdout",
          "text": [
            "Section:  ['world' 'asia' 'success' 'investing' 'energy' 'perspectives'\n",
            " 'business-food' 'media' 'business' 'tech' 'business-india' 'health'\n",
            " 'entertainment' 'sport' 'motorsport' 'us' 'football' 'tennis' 'golf'\n",
            " 'africa' 'opinions' 'europe' 'politics' 'china' 'economy' 'homes'\n",
            " 'business-money' 'movies' 'celebrities' 'living' 'americas' 'middleeast'\n",
            " 'india' 'weather' 'intl_world' 'cars' 'uk' 'showbiz' 'opinion' 'travel'\n",
            " 'worldsport' 'australia' 'intl_business' 'vr' 'fashion' 'foodanddrink'\n",
            " 'justice' 'app-news-section' 'cnn10' 'app-politics-section'\n",
            " 'app-tech-section' 'skiing' 'equestrian' 'horseracing' 'sailing']\n"
          ]
        }
      ],
      "source": [
        "print('Section: ', dataset.Section.unique())"
      ]
    },
    {
      "cell_type": "code",
      "execution_count": null,
      "metadata": {
        "colab": {
          "base_uri": "https://localhost:8080/",
          "height": 535
        },
        "id": "bCyhAvA7eg03",
        "outputId": "d00abf34-df3e-42e7-9960-750ab78f64f2"
      },
      "outputs": [
        {
          "output_type": "display_data",
          "data": {
            "text/plain": [
              "<Figure size 640x480 with 1 Axes>"
            ],
            "image/png": "[encoded data removed]"
          },
          "metadata": {}
        }
      ],
      "source": [
        "dataset.Category.value_counts()[:15].plot(kind='bar'); #imbalanced data"
      ]
    },
    {
      "cell_type": "code",
      "execution_count": null,
      "metadata": {
        "colab": {
          "base_uri": "https://localhost:8080/",
          "height": 676
        },
        "id": "IQ9AF4Ukeg03",
        "outputId": "75084c66-018e-4f68-88e0-d13c433bbc0e"
      },
      "outputs": [
        {
          "output_type": "display_data",
          "data": {
            "text/plain": [
              "<Figure size 800x800 with 1 Axes>"
            ],
            "image/png": "[encoded data removed]"
          },
          "metadata": {}
        }
      ],
      "source": [
        "dataset['Section'].value_counts().plot(kind='barh', figsize=(8, 8));"
      ]
    },
    {
      "cell_type": "markdown",
      "source": [
        "## Data Preprocessing"
      ],
      "metadata": {
        "id": "QdRx-KInWH6C"
      }
    },
    {
      "cell_type": "code",
      "execution_count": null,
      "metadata": {
        "id": "LMkwf2Qceg0v"
      },
      "outputs": [],
      "source": [
        "# Fix - 1) There are no Dtypes\n",
        "dataset['Author'] = dataset['Author'].astype('string')\n",
        "dataset['Date published'] = dataset['Date published'].astype('datetime64[ns]')\n",
        "dataset['Category'] = dataset['Category'].astype('category')\n",
        "dataset['Section'] = dataset['Section'].astype('category')\n",
        "dataset['Url'] = dataset['Url'].astype('string')\n",
        "dataset['Headline'] = dataset['Headline'].astype('string')\n",
        "dataset['Description'] = dataset['Description'].astype('string')\n",
        "dataset['Keywords'] = dataset['Keywords'].astype('string')\n",
        "dataset['Second headline'] = dataset['Second headline'].astype('string')\n",
        "dataset['Article text'] = dataset['Article text'].astype('string')"
      ]
    },
    {
      "cell_type": "code",
      "execution_count": null,
      "metadata": {
        "id": "BGqF29dzeg0w"
      },
      "outputs": [],
      "source": [
        "# Fix - 2) Article text contains null values\n",
        "dataset.dropna(inplace=True)"
      ]
    },
    {
      "cell_type": "code",
      "execution_count": null,
      "metadata": {
        "id": "iRcysvYzeg01"
      },
      "outputs": [],
      "source": [
        "#Fix - 3) Author, Url, Keywords, etc column can contain the Category/Section name and can cause data leakage in classification\n",
        "def fix_author(text):\n",
        "\n",
        "    # Lowercasing\n",
        "    text_clean = text.lower()\n",
        "\n",
        "    # Remove Category/Section to avoid data leakage\n",
        "    remove_words = []\n",
        "    remove_words.extend(dataset.Category.unique())\n",
        "    remove_words.extend(dataset.Section.unique())\n",
        "    # more words to remove\n",
        "    remove_words.extend(['CNN','By'])\n",
        "    remove_words = [word.lower() for word in remove_words]\n",
        "    text_clean = ' '.join([word for word in text_clean.split() if word not in remove_words])\n",
        "\n",
        "    #split names\n",
        "    authors = re.split(',| and',text_clean)\n",
        "\n",
        "    # Remove special characters and numbers\n",
        "    authors = [re.sub(r'[^a-z]', ' ', author) for author in authors]\n",
        "    # concat name with ','\n",
        "    authors = \", \".join(authors)\n",
        "\n",
        "\n",
        "    return authors"
      ]
    },
    {
      "cell_type": "code",
      "execution_count": null,
      "metadata": {
        "colab": {
          "base_uri": "https://localhost:8080/",
          "height": 458
        },
        "id": "T40Fm4q4eg01",
        "outputId": "14c9c395-9f25-4c77-c9d0-79f194ae248b"
      },
      "outputs": [
        {
          "output_type": "execute_result",
          "data": {
            "text/plain": [
              "0        2021-07-15\n",
              "1        2021-05-12\n",
              "2        2021-06-16\n",
              "3        2022-03-18\n",
              "4        2022-03-19\n",
              "            ...    \n",
              "37944    2022-03-01\n",
              "37945    2022-03-01\n",
              "37946    2022-03-01\n",
              "37947    2013-01-12\n",
              "37948    2013-06-27\n",
              "Name: Date published, Length: 37940, dtype: object"
            ],
            "text/html": [
              "<div>\n",
              "<style scoped>\n",
              "    .dataframe tbody tr th:only-of-type {\n",
              "        vertical-align: middle;\n",
              "    }\n",
              "\n",
              "    .dataframe tbody tr th {\n",
              "        vertical-align: top;\n",
              "    }\n",
              "\n",
              "    .dataframe thead th {\n",
              "        text-align: right;\n",
              "    }\n",
              "</style>\n",
              "<table border=\"1\" class=\"dataframe\">\n",
              "  <thead>\n",
              "    <tr style=\"text-align: right;\">\n",
              "      <th></th>\n",
              "      <th>Date published</th>\n",
              "    </tr>\n",
              "  </thead>\n",
              "  <tbody>\n",
              "    <tr>\n",
              "      <th>0</th>\n",
              "      <td>2021-07-15</td>\n",
              "    </tr>\n",
              "    <tr>\n",
              "      <th>1</th>\n",
              "      <td>2021-05-12</td>\n",
              "    </tr>\n",
              "    <tr>\n",
              "      <th>2</th>\n",
              "      <td>2021-06-16</td>\n",
              "    </tr>\n",
              "    <tr>\n",
              "      <th>3</th>\n",
              "      <td>2022-03-18</td>\n",
              "    </tr>\n",
              "    <tr>\n",
              "      <th>4</th>\n",
              "      <td>2022-03-19</td>\n",
              "    </tr>\n",
              "    <tr>\n",
              "      <th>...</th>\n",
              "      <td>...</td>\n",
              "    </tr>\n",
              "    <tr>\n",
              "      <th>37944</th>\n",
              "      <td>2022-03-01</td>\n",
              "    </tr>\n",
              "    <tr>\n",
              "      <th>37945</th>\n",
              "      <td>2022-03-01</td>\n",
              "    </tr>\n",
              "    <tr>\n",
              "      <th>37946</th>\n",
              "      <td>2022-03-01</td>\n",
              "    </tr>\n",
              "    <tr>\n",
              "      <th>37947</th>\n",
              "      <td>2013-01-12</td>\n",
              "    </tr>\n",
              "    <tr>\n",
              "      <th>37948</th>\n",
              "      <td>2013-06-27</td>\n",
              "    </tr>\n",
              "  </tbody>\n",
              "</table>\n",
              "<p>37940 rows × 1 columns</p>\n",
              "</div><br><label><b>dtype:</b> object</label>"
            ]
          },
          "metadata": {},
          "execution_count": 23
        }
      ],
      "source": [
        "#Fix - 4) Date published contains the time of publishing - not relevant data\n",
        "dataset['year'] = dataset['Date published'].dt.year\n",
        "dataset['Date published'] = dataset['Date published'].dt.date\n",
        "dataset['Date published']"
      ]
    },
    {
      "cell_type": "code",
      "execution_count": null,
      "metadata": {
        "colab": {
          "base_uri": "https://localhost:8080/",
          "height": 406
        },
        "id": "l6xN4OI0eg03",
        "outputId": "5fc611dc-90ae-4900-8454-23ee95060261"
      },
      "outputs": [
        {
          "output_type": "display_data",
          "data": {
            "text/plain": [
              "<Figure size 640x480 with 1 Axes>"
            ],
            "image/png": "[encoded data removed]"
          },
          "metadata": {}
        }
      ],
      "source": [
        "dataset['year'].value_counts().plot(kind='pie');"
      ]
    },
    {
      "cell_type": "code",
      "execution_count": null,
      "metadata": {
        "id": "NQ3alH7_eg01"
      },
      "outputs": [],
      "source": [
        "#Fix - 5) Article text, Headline, etc.. contains row text (stop words, lower and upper cases, special characters and numbers, etc..)\n",
        "# get raw string and return clean string\n",
        "def clean_text(web_text):\n",
        "\n",
        "    # Lowercasing\n",
        "    text_clean = web_text.lower()\n",
        "\n",
        "    # Converting numbers to words\n",
        "    text_clean = ' '.join([num2words.num2words(i) if i.isdigit() else i for i in text_clean.split()])\n",
        "\n",
        "    # Remove special characters and numbers\n",
        "    text_clean = re.sub(r'[^a-z]', ' ', text_clean)\n",
        "\n",
        "    # Remove stop words, commonly used words in a language.\n",
        "    # Examples of stop words in English: “a”, “the”, “is”, “are”, etc.\n",
        "    stop_words = set(nltk.corpus.stopwords.words(\"english\"))\n",
        "    text_clean = ' '.join([word for word in text_clean.split() if word not in stop_words])\n",
        "\n",
        "    # Lemmatization is the process of grouping together the different inflected forms of a word\n",
        "    # (for example find and found being the same word)\n",
        "    wordnet_lemmatizer = WordNetLemmatizer()\n",
        "    lemmatized_list = []\n",
        "    text_words = text_clean.split(\" \")\n",
        "\n",
        "    for word in text_words:\n",
        "        lemmatized_list.append(wordnet_lemmatizer.lemmatize(word, pos=\"v\"))\n",
        "\n",
        "    text_clean = \" \".join(lemmatized_list)\n",
        "\n",
        "    # Stemming - the process of reducing inflection in words to their root\n",
        "    # forms such as mapping a group of words to the same stem\n",
        "    # even if the stem itself is not a valid word in the Language.\n",
        "    stemmer = PorterStemmer()\n",
        "    stemmer.stem(text_clean)\n",
        "\n",
        "    return text_clean"
      ]
    },
    {
      "cell_type": "code",
      "execution_count": null,
      "metadata": {
        "id": "Lk0lsw2beg02"
      },
      "outputs": [],
      "source": [
        "# Fix all the text in the dataset\n",
        "for index in dataset.index:\n",
        "\n",
        "    text_author = dataset.loc[index,'Author']\n",
        "    dataset.loc[index,'Author'] = fix_author(text_author)\n",
        "\n",
        "    text_headline = dataset.loc[index,'Headline']\n",
        "    dataset.loc[index,'Headline'] = clean_text(text_headline)\n",
        "\n",
        "    text_headline2 = dataset.loc[index,'Second headline']\n",
        "    dataset.loc[index,'Second headline'] = clean_text(text_headline2)\n",
        "\n",
        "    text_description = dataset.loc[index,'Description']\n",
        "    dataset.loc[index,'Description'] = clean_text(text_description)\n",
        "\n",
        "    text_article = dataset.loc[index,'Article text']\n",
        "    dataset.loc[index,'Article text'] = clean_text(text_article)"
      ]
    },
    {
      "cell_type": "code",
      "execution_count": null,
      "metadata": {
        "id": "TVZfjGoQeg03"
      },
      "outputs": [],
      "source": [
        "dataset = dataset[dataset.Category != 'vr']\n",
        "dataset = dataset[dataset.Category != 'style']\n",
        "dataset = dataset[dataset.Category != 'travel']\n",
        "dataset = dataset[dataset.year != '2011']"
      ]
    },
    {
      "cell_type": "code",
      "execution_count": null,
      "metadata": {
        "id": "1o7WXQxAeg09"
      },
      "outputs": [],
      "source": [
        "# Category to number mapping\n",
        "dataset['Category_code'] = dataset.Category\n",
        "dataset['Category_code'] = dataset.Category.cat.codes\n",
        "\n",
        "# Category to number mapping\n",
        "dataset['Section_code'] = dataset.Section\n",
        "dataset['Section_code'] = dataset.Section.cat.codes"
      ]
    },
    {
      "cell_type": "code",
      "execution_count": null,
      "metadata": {
        "colab": {
          "base_uri": "https://localhost:8080/"
        },
        "id": "KVyS6u3_FQYv",
        "outputId": "433699c5-3b9f-47eb-f2f9-0bf892ce6bbb"
      },
      "outputs": [
        {
          "output_type": "execute_result",
          "data": {
            "text/plain": [
              "Index(['business', 'entertainment', 'health', 'news', 'politics', 'sport',\n",
              "       'style', 'travel', 'vr'],\n",
              "      dtype='object')"
            ]
          },
          "metadata": {},
          "execution_count": 29
        }
      ],
      "source": [
        "dataset.Category.cat.categories"
      ]
    },
    {
      "cell_type": "code",
      "execution_count": null,
      "metadata": {
        "colab": {
          "base_uri": "https://localhost:8080/"
        },
        "id": "4IBe4f1mEVtA",
        "outputId": "c1d571b8-b361-4f19-f171-ae6e53b4ae18"
      },
      "outputs": [
        {
          "output_type": "stream",
          "name": "stdout",
          "text": [
            "[3 0 2 1 5 4]\n"
          ]
        }
      ],
      "source": [
        "print(dataset['Category_code'].unique())"
      ]
    },
    {
      "cell_type": "markdown",
      "metadata": {
        "id": "7u8KK1m_eg09"
      },
      "source": [
        "### Split train/test"
      ]
    },
    {
      "cell_type": "code",
      "execution_count": null,
      "metadata": {
        "id": "1o3qZQVMeg09"
      },
      "outputs": [],
      "source": [
        "X_train, X_test, y_train, y_test = train_test_split(dataset['Article text'],\n",
        "                                                    dataset['Category_code'],\n",
        "                                                    test_size=0.15,\n",
        "                                                    random_state=8)"
      ]
    },
    {
      "cell_type": "markdown",
      "metadata": {
        "id": "DKs6xrKBeg0-"
      },
      "source": [
        "### Text Representation using TF-IDF Vectors as feature"
      ]
    },
    {
      "cell_type": "code",
      "execution_count": null,
      "metadata": {
        "colab": {
          "base_uri": "https://localhost:8080/"
        },
        "id": "N0hRT3vveg0-",
        "outputId": "322f3474-fac8-4fdd-9c54-2a71c99ed26a"
      },
      "outputs": [
        {
          "output_type": "stream",
          "name": "stdout",
          "text": [
            "(32210, 300)\n",
            "(5685, 300)\n"
          ]
        }
      ],
      "source": [
        "# Parameter election\n",
        "ngram_range = (1,2)\n",
        "min_df = 10\n",
        "max_df = 1.\n",
        "max_features = 300\n",
        "\n",
        "tfidf = TfidfVectorizer(encoding='utf-8',\n",
        "                        ngram_range=ngram_range,\n",
        "                        stop_words=None,\n",
        "                        lowercase=False,\n",
        "                        max_df=max_df,\n",
        "                        min_df=min_df,\n",
        "                        max_features=max_features,\n",
        "                        norm='l2',\n",
        "                        sublinear_tf=True)\n",
        "\n",
        "# Transform documents to a matrix in train\n",
        "features_train = tfidf.fit_transform(X_train).toarray()\n",
        "labels_train = y_train\n",
        "print(features_train.shape)\n",
        "\n",
        "# Transform documents to a matrix in test\n",
        "features_test = tfidf.transform(X_test).toarray()\n",
        "labels_test = y_test\n",
        "print(features_test.shape)"
      ]
    },
    {
      "cell_type": "code",
      "execution_count": null,
      "metadata": {
        "id": "fm905hW3cnlH"
      },
      "outputs": [],
      "source": [
        "import pickle\n",
        "# Save the vectorizer\n",
        "with open('tfidf_vectorizer.pkl', 'wb') as file:\n",
        "    pickle.dump(tfidf, file)\n"
      ]
    },
    {
      "cell_type": "code",
      "source": [
        "# Resampling using SMOTE\n",
        "# Use features_train, the numerical representation of the text data\n",
        "X_train_resampled, y_train_resampled = smote.fit_resample(features_train, y_train)"
      ],
      "metadata": {
        "id": "3sus-mdY8OYT"
      },
      "execution_count": null,
      "outputs": []
    },
    {
      "cell_type": "code",
      "source": [
        "from collections import Counter\n",
        "# summarize class distribution\n",
        "counter = Counter(y_train)\n",
        "print(counter)\n",
        "counter = Counter(y_train_resampled)\n",
        "print(counter)\n"
      ],
      "metadata": {
        "colab": {
          "base_uri": "https://localhost:8080/"
        },
        "id": "Ti5qwrjc8xjI",
        "outputId": "3566193c-30db-4d8b-d3d0-cb36f4b8f466"
      },
      "execution_count": null,
      "outputs": [
        {
          "output_type": "stream",
          "name": "stdout",
          "text": [
            "Counter({3: 15395, 5: 13163, 4: 2110, 0: 728, 2: 466, 1: 348})\n",
            "Counter({3: 15395, 5: 15395, 0: 15395, 4: 15395, 2: 15395, 1: 15395})\n"
          ]
        }
      ]
    },
    {
      "cell_type": "markdown",
      "metadata": {
        "id": "9MmnGV0heg0-"
      },
      "source": [
        "## Model"
      ]
    },
    {
      "cell_type": "code",
      "execution_count": null,
      "metadata": {
        "colab": {
          "base_uri": "https://localhost:8080/"
        },
        "id": "Zv7AnNqQeg0_",
        "outputId": "96bd84e1-7975-4b3d-d196-d764c682df68"
      },
      "outputs": [
        {
          "output_type": "stream",
          "name": "stdout",
          "text": [
            "{'C': 1.0, 'break_ties': False, 'cache_size': 200, 'class_weight': None, 'coef0': 0.0, 'decision_function_shape': 'ovr', 'degree': 3, 'gamma': 'scale', 'kernel': 'rbf', 'max_iter': -1, 'probability': False, 'random_state': 8, 'shrinking': True, 'tol': 0.001, 'verbose': False}\n"
          ]
        }
      ],
      "source": [
        "# Default hyperparameters\n",
        "svc = svm.SVC(random_state=8)\n",
        "print(svc.get_params())"
      ]
    },
    {
      "cell_type": "code",
      "execution_count": null,
      "metadata": {
        "colab": {
          "base_uri": "https://localhost:8080/",
          "height": 75
        },
        "id": "P50rkowMeg0_",
        "outputId": "348f36fd-f6a4-4317-c3a1-f1c18b73e729"
      },
      "outputs": [
        {
          "output_type": "execute_result",
          "data": {
            "text/plain": [
              "SVC(random_state=8)"
            ],
            "text/html": [
              "<style>#sk-container-id-2 {color: black;}#sk-container-id-2 pre{padding: 0;}#sk-container-id-2 div.sk-toggleable {background-color: white;}#sk-container-id-2 label.sk-toggleable__label {cursor: pointer;display: block;width: 100%;margin-bottom: 0;padding: 0.3em;box-sizing: border-box;text-align: center;}#sk-container-id-2 label.sk-toggleable__label-arrow:before {content: \"▸\";float: left;margin-right: 0.25em;color: #696969;}#sk-container-id-2 label.sk-toggleable__label-arrow:hover:before {color: black;}#sk-container-id-2 div.sk-estimator:hover label.sk-toggleable__label-arrow:before {color: black;}#sk-container-id-2 div.sk-toggleable__content {max-height: 0;max-width: 0;overflow: hidden;text-align: left;background-color: #f0f8ff;}#sk-container-id-2 div.sk-toggleable__content pre {margin: 0.2em;color: black;border-radius: 0.25em;background-color: #f0f8ff;}#sk-container-id-2 input.sk-toggleable__control:checked~div.sk-toggleable__content {max-height: 200px;max-width: 100%;overflow: auto;}#sk-container-id-2 input.sk-toggleable__control:checked~label.sk-toggleable__label-arrow:before {content: \"▾\";}#sk-container-id-2 div.sk-estimator input.sk-toggleable__control:checked~label.sk-toggleable__label {background-color: #d4ebff;}#sk-container-id-2 div.sk-label input.sk-toggleable__control:checked~label.sk-toggleable__label {background-color: #d4ebff;}#sk-container-id-2 input.sk-hidden--visually {border: 0;clip: rect(1px 1px 1px 1px);clip: rect(1px, 1px, 1px, 1px);height: 1px;margin: -1px;overflow: hidden;padding: 0;position: absolute;width: 1px;}#sk-container-id-2 div.sk-estimator {font-family: monospace;background-color: #f0f8ff;border: 1px dotted black;border-radius: 0.25em;box-sizing: border-box;margin-bottom: 0.5em;}#sk-container-id-2 div.sk-estimator:hover {background-color: #d4ebff;}#sk-container-id-2 div.sk-parallel-item::after {content: \"\";width: 100%;border-bottom: 1px solid gray;flex-grow: 1;}#sk-container-id-2 div.sk-label:hover label.sk-toggleable__label {background-color: #d4ebff;}#sk-container-id-2 div.sk-serial::before {content: \"\";position: absolute;border-left: 1px solid gray;box-sizing: border-box;top: 0;bottom: 0;left: 50%;z-index: 0;}#sk-container-id-2 div.sk-serial {display: flex;flex-direction: column;align-items: center;background-color: white;padding-right: 0.2em;padding-left: 0.2em;position: relative;}#sk-container-id-2 div.sk-item {position: relative;z-index: 1;}#sk-container-id-2 div.sk-parallel {display: flex;align-items: stretch;justify-content: center;background-color: white;position: relative;}#sk-container-id-2 div.sk-item::before, #sk-container-id-2 div.sk-parallel-item::before {content: \"\";position: absolute;border-left: 1px solid gray;box-sizing: border-box;top: 0;bottom: 0;left: 50%;z-index: -1;}#sk-container-id-2 div.sk-parallel-item {display: flex;flex-direction: column;z-index: 1;position: relative;background-color: white;}#sk-container-id-2 div.sk-parallel-item:first-child::after {align-self: flex-end;width: 50%;}#sk-container-id-2 div.sk-parallel-item:last-child::after {align-self: flex-start;width: 50%;}#sk-container-id-2 div.sk-parallel-item:only-child::after {width: 0;}#sk-container-id-2 div.sk-dashed-wrapped {border: 1px dashed gray;margin: 0 0.4em 0.5em 0.4em;box-sizing: border-box;padding-bottom: 0.4em;background-color: white;}#sk-container-id-2 div.sk-label label {font-family: monospace;font-weight: bold;display: inline-block;line-height: 1.2em;}#sk-container-id-2 div.sk-label-container {text-align: center;}#sk-container-id-2 div.sk-container {/* jupyter's `normalize.less` sets `[hidden] { display: none; }` but bootstrap.min.css set `[hidden] { display: none !important; }` so we also need the `!important` here to be able to override the default hidden behavior on the sphinx rendered scikit-learn.org. See: https://github.com/scikit-learn/scikit-learn/issues/21755 */display: inline-block !important;position: relative;}#sk-container-id-2 div.sk-text-repr-fallback {display: none;}</style><div id=\"sk-container-id-2\" class=\"sk-top-container\"><div class=\"sk-text-repr-fallback\"><pre>SVC(random_state=8)</pre><b>In a Jupyter environment, please rerun this cell to show the HTML representation or trust the notebook. <br />On GitHub, the HTML representation is unable to render, please try loading this page with nbviewer.org.</b></div><div class=\"sk-container\" hidden><div class=\"sk-item\"><div class=\"sk-estimator sk-toggleable\"><input class=\"sk-toggleable__control sk-hidden--visually\" id=\"sk-estimator-id-2\" type=\"checkbox\" checked><label for=\"sk-estimator-id-2\" class=\"sk-toggleable__label sk-toggleable__label-arrow\">SVC</label><div class=\"sk-toggleable__content\"><pre>SVC(random_state=8)</pre></div></div></div></div></div>"
            ]
          },
          "metadata": {},
          "execution_count": 49
        }
      ],
      "source": [
        "# Fit the random search model\n",
        "svc.fit(X_train_resampled, y_train_resampled)"
      ]
    },
    {
      "cell_type": "markdown",
      "metadata": {
        "id": "PaqWl1wzeg0_"
      },
      "source": [
        "### Prediction"
      ]
    },
    {
      "cell_type": "code",
      "execution_count": null,
      "metadata": {
        "colab": {
          "base_uri": "https://localhost:8080/"
        },
        "id": "TvFP_3-9eg0_",
        "outputId": "7c76d75d-be97-4029-d43a-ac4992301359"
      },
      "outputs": [
        {
          "output_type": "stream",
          "name": "stdout",
          "text": [
            "Accuracy score on train:  0.9898478733312636\n"
          ]
        }
      ],
      "source": [
        "# Find the prediction on the test\n",
        "svc_predict = svc.predict(features_test)\n",
        "print(\"Accuracy score on train: \", accuracy_score(labels_train, svc.predict(features_train)))"
      ]
    },
    {
      "cell_type": "code",
      "source": [],
      "metadata": {
        "id": "-KQd2lY8Mj7j"
      },
      "execution_count": null,
      "outputs": []
    },
    {
      "cell_type": "code",
      "execution_count": null,
      "metadata": {
        "colab": {
          "base_uri": "https://localhost:8080/"
        },
        "id": "WlpyYsFbeg1A",
        "outputId": "aff0390d-a365-4874-84e6-1e196700b73c"
      },
      "outputs": [
        {
          "output_type": "stream",
          "name": "stdout",
          "text": [
            "Classification report: \n",
            "              precision    recall  f1-score   support\n",
            "\n",
            "           0       0.77      0.52      0.62       126\n",
            "           1       0.74      0.45      0.56        65\n",
            "           2       0.74      0.59      0.66        91\n",
            "           3       0.91      0.96      0.93      2674\n",
            "           4       0.88      0.76      0.82       351\n",
            "           5       0.98      0.97      0.97      2378\n",
            "\n",
            "    accuracy                           0.93      5685\n",
            "   macro avg       0.84      0.71      0.76      5685\n",
            "weighted avg       0.93      0.93      0.93      5685\n",
            "\n"
          ]
        }
      ],
      "source": [
        "# Classification report\n",
        "print(\"Classification report: \")\n",
        "print(classification_report(labels_test, svc_predict))"
      ]
    },
    {
      "cell_type": "code",
      "execution_count": null,
      "metadata": {
        "id": "cC2jS2wzeg1A",
        "colab": {
          "base_uri": "https://localhost:8080/",
          "height": 564
        },
        "outputId": "5c0684c2-65a1-4ca2-cc0c-d31d2e2169b8"
      },
      "outputs": [
        {
          "output_type": "display_data",
          "data": {
            "text/plain": [
              "<Figure size 1280x600 with 2 Axes>"
            ],
            "image/png": "[encoded data removed]"
          },
          "metadata": {}
        }
      ],
      "source": [
        "# Confusion matrix - summary of prediction results on a classification problem\n",
        "aux_df = dataset[['Category', 'Category_code']].drop_duplicates().sort_values('Category_code')\n",
        "conf_matrix = confusion_matrix(labels_test, svc_predict)\n",
        "plt.figure(figsize=(12.8,6))\n",
        "sns.heatmap(conf_matrix,\n",
        "            annot=True,\n",
        "            xticklabels=aux_df['Category'].values,\n",
        "            yticklabels=aux_df['Category'].values,\n",
        "            cmap=\"Blues\")\n",
        "plt.ylabel('Predicted')\n",
        "plt.xlabel('Actual')\n",
        "plt.title('Confusion matrix')\n",
        "plt.show()"
      ]
    },
    {
      "cell_type": "code",
      "execution_count": null,
      "metadata": {
        "id": "oHilymaC3ram"
      },
      "outputs": [],
      "source": [
        "\n",
        "# Save the model to a file\n",
        "with open('svm_model.pkl', 'wb') as file:\n",
        "    pickle.dump(svc, file)\n"
      ]
    },
    {
      "cell_type": "code",
      "execution_count": null,
      "metadata": {
        "id": "C-NqVE4c4SIj"
      },
      "outputs": [],
      "source": [
        "import pandas as pd\n",
        "import pickle\n",
        "# Function to load the model and TF-IDF vectorizer\n",
        "def load_model_and_tfidf(model_filename=\"svm_model.pkl\", tfidf_filename=\"tfidf_vectorizer.pkl\"):\n",
        "  with open(model_filename, 'rb') as file:\n",
        "    loaded_model = pickle.load(file)\n",
        "  with open(tfidf_filename, 'rb') as file:\n",
        "    cv = pickle.load(file)\n",
        "  print(f\"Loaded model from: {model_filename}\")\n",
        "  print(f\"Loaded TF-IDF vectorizer from: {tfidf_filename}\")\n",
        "  return loaded_model, cv"
      ]
    },
    {
      "cell_type": "code",
      "execution_count": null,
      "metadata": {
        "id": "-wwAwKTEZuWi",
        "colab": {
          "base_uri": "https://localhost:8080/"
        },
        "outputId": "fb173213-b7b8-49dd-c5b9-3cf1210e7b27"
      },
      "outputs": [
        {
          "output_type": "stream",
          "name": "stdout",
          "text": [
            "Loaded model from: svm_model.pkl\n",
            "Loaded TF-IDF vectorizer from: tfidf_vectorizer.pkl\n"
          ]
        }
      ],
      "source": [
        "loaded_model, cv = load_model_and_tfidf()\n",
        "\n",
        "new_articles = \"The prosecutor at the International Criminal Court (ICC) is seeking arrest warrants for top Hamas and Israeli figures on charges of war crimes and crimes against humanity over the October 7 attacks on Israel and the subsequent war in Gaza.If approved by a panel of judges, the arrest warrants would be issued for Israeli Prime Minister Benjamin Netanyahu and Defense Minister Yoav Gallant. Warrants are also being sought for three top Hamas officials: Gaza leader Yahya Sinwar, political chief Ismail Haniyah, and Mohammed Diab Ibrahim al-Masri, the leader of Hamas armed wing, who is better known as Mohammed Deif.Here’s what we know about the ICC cases and what they mean for Israel and Hamas.\"\n",
        "new_articles_vector = cv.transform([new_articles]).toarray()\n",
        "prediction = loaded_model.predict(new_articles_vector )"
      ]
    },
    {
      "cell_type": "code",
      "execution_count": null,
      "metadata": {
        "id": "Vpl_fUE_EJaE",
        "colab": {
          "base_uri": "https://localhost:8080/"
        },
        "outputId": "211c26d2-eef2-4a36-dd69-f2343146f6ee"
      },
      "outputs": [
        {
          "output_type": "stream",
          "name": "stdout",
          "text": [
            "[3]\n"
          ]
        }
      ],
      "source": [
        "print(prediction)"
      ]
    },
    {
      "cell_type": "code",
      "execution_count": null,
      "metadata": {
        "id": "65NuBPocIxfw",
        "colab": {
          "base_uri": "https://localhost:8080/"
        },
        "outputId": "e3e77a74-cb25-4e6a-f479-be74ad69a00b"
      },
      "outputs": [
        {
          "output_type": "stream",
          "name": "stdout",
          "text": [
            "Loaded model from: svm_model.pkl\n",
            "Loaded TF-IDF vectorizer from: tfidf_vectorizer.pkl\n"
          ]
        }
      ],
      "source": [
        "loaded_model, cv = load_model_and_tfidf()\n",
        "new_articles = \"Premier League clubs will vote on whether to scrap the video assistant referee (VAR) from the start of next season following a proposal put forward by Wolverhampton Wanderers.The vote is set to be held at the annual general meeting between all 20 clubs on June 6, with Wolves requiring 14 clubs to vote in favor of the resolution for it to pass. Any of the league’s 20 clubs can put forward a proposal to be voted on.Wolves have been irked by a number of refereeing decisions this season, leading chairman Jeff Shi to question whether VAR – which was introduced to the Premier League at the start of the 2019-20 season – is “really what football wants or needs” after the team had a goal controversially ruled out against West Ham last month.\"\n",
        "new_articles_vector = cv.transform([new_articles]).toarray()\n",
        "prediction = loaded_model.predict(new_articles_vector )\n"
      ]
    },
    {
      "cell_type": "code",
      "execution_count": null,
      "metadata": {
        "id": "UWA2TYWwJPau",
        "colab": {
          "base_uri": "https://localhost:8080/"
        },
        "outputId": "f85d7fd6-4ce9-4012-e4b7-46bc53e4f3df"
      },
      "outputs": [
        {
          "output_type": "stream",
          "name": "stdout",
          "text": [
            "[5]\n"
          ]
        }
      ],
      "source": [
        "print(prediction)"
      ]
    }
  ],
  "metadata": {
    "colab": {
      "provenance": [],
      "collapsed_sections": [
        "35rr1egEptzL",
        "kLvttksobL0W",
        "QQQUILBCeg0r",
        "I4iwc8K9eg0t",
        "9MmnGV0heg0-"
      ],
      "include_colab_link": true
    },
    "kernelspec": {
      "display_name": "Python 3",
      "name": "python3"
    },
    "language_info": {
      "codemirror_mode": {
        "name": "ipython",
        "version": 3
      },
      "file_extension": ".py",
      "mimetype": "text/x-python",
      "name": "python",
      "nbconvert_exporter": "python",
      "pygments_lexer": "ipython3",
      "version": "3.6.4"
    }
  },
  "nbformat": 4,
  "nbformat_minor": 0
}